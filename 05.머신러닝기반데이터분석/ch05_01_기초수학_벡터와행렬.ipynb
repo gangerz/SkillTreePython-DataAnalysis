{
  "nbformat": 4,
  "nbformat_minor": 0,
  "metadata": {
    "colab": {
      "name": "ch05_01_기초수학-벡터와행렬.ipynb",
      "provenance": [],
      "collapsed_sections": [],
      "toc_visible": true,
      "include_colab_link": true
    },
    "kernelspec": {
      "name": "python3",
      "display_name": "Python 3"
    },
    "language_info": {
      "name": "python"
    }
  },
  "cells": [
    {
      "cell_type": "markdown",
      "metadata": {
        "id": "view-in-github",
        "colab_type": "text"
      },
      "source": [
        "<a href=\"https://colab.research.google.com/github/gangerz/SkillTreePython-DataAnalysis/blob/main/05.%EB%A8%B8%EC%8B%A0%EB%9F%AC%EB%8B%9D%EA%B8%B0%EB%B0%98%EB%8D%B0%EC%9D%B4%ED%84%B0%EB%B6%84%EC%84%9D/ch05_01_%EA%B8%B0%EC%B4%88%EC%88%98%ED%95%99_%EB%B2%A1%ED%84%B0%EC%99%80%ED%96%89%EB%A0%AC.ipynb\" target=\"_parent\"><img src=\"https://colab.research.google.com/assets/colab-badge.svg\" alt=\"Open In Colab\"/></a>"
      ]
    },
    {
      "cell_type": "markdown",
      "source": [
        "# ch05.01. 기초수학 - 벡터와 행렬\n",
        "---\n",
        "* 날짜: 2022-06-15\n",
        "* 이름: 윤예현\n",
        "\n",
        "## 학습내용\n",
        "    - 스칼라, 벡터, 행렬에 대한 기본 개념을 배운다\n",
        "    - 벡터의 연산에 대해 이해한다\n",
        "    - 행렬의 연산에 대해 이해한다.\n",
        "\n",
        "\n",
        "**라이브러리 임포트**\n",
        "```\n",
        "import numpy as np\n",
        "import matplotlib.pyplot as plt\n",
        "```\n"
      ],
      "metadata": {
        "id": "wWpXZc2fi39U"
      }
    },
    {
      "cell_type": "code",
      "source": [
        "import numpy as np # 수학, 데이터, 과학 연산 수행\n",
        "import matplotlib.pyplot as plt #파이썬에서 플롯 (근본) 라이브러리\n",
        "import numpy as np"
      ],
      "metadata": {
        "id": "iMfpZgoS9JFv"
      },
      "execution_count": 19,
      "outputs": []
    },
    {
      "cell_type": "code",
      "source": [
        ""
      ],
      "metadata": {
        "id": "Yy0fwqVsVbYr"
      },
      "execution_count": null,
      "outputs": []
    },
    {
      "cell_type": "markdown",
      "source": [
        "## 스칼라\n",
        "---\n",
        "\n",
        "* Zeros-order Tensor Operations\n",
        "\n",
        "\n",
        "\\begin{split}\n",
        "\\begin{align}\n",
        "\\ \\ a, b ∈ℝ\n",
        "\\\\\n",
        "\\end{align}\n",
        "\\end{split}\n",
        "\n",
        "\\begin{align}\n",
        "\\\\\n",
        "\\end{align}\n",
        "### **| 스칼라 연산**\n",
        "\n",
        "\\begin{split}\n",
        "\\begin{align}\n",
        "\\\\ a+b ∈ℝ \n",
        "\\\\ a-b ∈ℝ\n",
        "\\\\ a×b ∈ℝ\n",
        "\\end{align}\n",
        "\\end{split}"
      ],
      "metadata": {
        "id": "ezw1TJA2kO_a"
      }
    },
    {
      "cell_type": "markdown",
      "source": [
        "## 벡터\n",
        "---\n",
        "* First-order Tensor Operation\n",
        "\n",
        "\n",
        "\\begin{split}\n",
        "\\begin{align}\n",
        "𝐱 =\n",
        "\\begin{bmatrix}\n",
        "x_1 \\\\\n",
        "x_2 \\\\\n",
        "... \\\\\n",
        "x_N \\\\\n",
        "\\end{bmatrix}\n",
        ", \\ \\ \\ \n",
        "𝐱^T =[ x_1, x_2, ..., x_N]\n",
        "\\ \\ \\, ∈ℝ^N \\ (ℝ^{N\\times 1})\n",
        "\\end{align}\n",
        "\\end{split}\n"
      ],
      "metadata": {
        "id": "UUCK0XLTkciq"
      }
    },
    {
      "cell_type": "markdown",
      "source": [
        "\n",
        "### **| 벡터와 벡터의 연산**\n",
        "\n",
        "\\begin{split}\n",
        "\\begin{align}\n",
        "𝐱 + 𝐲 =\n",
        "\\begin{bmatrix}\n",
        "x_1 \\\\\n",
        "x_2 \\\\\n",
        "... \\\\\n",
        "x_N \\\\\n",
        "\\end{bmatrix}\n",
        "+\n",
        "\\begin{bmatrix}\n",
        "y_1 \\\\\n",
        "y_2 \\\\\n",
        "... \\\\\n",
        "y_N \\\\\n",
        "\\end{bmatrix}\n",
        "=\n",
        "\\begin{bmatrix}\n",
        "x_1 + y_1 \\\\\n",
        "x_2 + y_2  \\\\\n",
        "... \\\\\n",
        "x_N + y_N \\\\\n",
        "\\end{bmatrix}\n",
        "\\end{align}\n",
        "\\end{split}\n",
        "\n",
        "\\\\\n",
        "\n",
        "\\begin{split}\n",
        "\\begin{align}\n",
        "𝐱 - 𝐲 =\n",
        "\\begin{bmatrix}\n",
        "x_1 \\\\\n",
        "x_2 \\\\\n",
        "... \\\\\n",
        "x_N \\\\\n",
        "\\end{bmatrix}\n",
        "-\n",
        "\\begin{bmatrix}\n",
        "y_1 \\\\\n",
        "y_2 \\\\\n",
        "... \\\\\n",
        "y_N \\\\\n",
        "\\end{bmatrix}\n",
        "=\n",
        "\\begin{bmatrix}\n",
        "x_1 - y_1 \\\\\n",
        "x_2 - y_2  \\\\\n",
        "... \\\\\n",
        "x_N - y_N \\\\\n",
        "\\end{bmatrix}\n",
        "\\end{align}\n",
        "\\end{split}\n",
        "\n",
        "\\\\\n",
        "\n",
        "\\begin{split}\n",
        "\\begin{align}\n",
        "𝐱^T𝐲 = 𝐱^T ⋅ 𝐲 = <𝐱,𝐲> = \n",
        "\\begin{bmatrix}\n",
        "x_{1} & x_{2} & \\cdots & x_{N} \n",
        "\\end{bmatrix}\n",
        "\\begin{bmatrix}\n",
        "y_{1} \\\\\n",
        "y_{2} \\\\\n",
        "\\vdots \\\\\n",
        "y_{N} \\\\\n",
        "\\end{bmatrix} \n",
        "= x_1 y_1 + \\cdots + x_N y_N \n",
        "=\\sum_{i=1}^N x_i y_i\n",
        "\\end{align}\n",
        "\\end{split}\n",
        "\\\\\n",
        "\n"
      ],
      "metadata": {
        "id": "AHjhQ01OpmpX"
      }
    },
    {
      "cell_type": "markdown",
      "source": [
        "#### **예제 01**\n",
        "\n",
        "\\begin{split}\n",
        "\\begin{align}\n",
        "𝐱=\n",
        "\\begin{bmatrix}\n",
        "2 \\\\\n",
        "1 \\\\\n",
        "2 \\\\\n",
        "0 \\\\\n",
        "\\end{bmatrix}\n",
        ",\\;\\;\n",
        "𝐲=\n",
        "\\begin{bmatrix}\n",
        "1 \\\\\n",
        "1 \\\\\n",
        "2 \\\\\n",
        "4 \\\\\n",
        "\\end{bmatrix}\n",
        "\\end{align}\n",
        "\\end{split}"
      ],
      "metadata": {
        "id": "QWNt0MEpeoqr"
      }
    },
    {
      "cell_type": "code",
      "source": [
        "x = np.array([2,1,2,0])\n",
        "y = np.array([1,1,2,4])\n",
        "print(x.shape, y.shape)"
      ],
      "metadata": {
        "id": "1MBfp-kcehla",
        "colab": {
          "base_uri": "https://localhost:8080/"
        },
        "outputId": "1e65b0f2-a5de-4244-83fd-eeb51c3a6872"
      },
      "execution_count": 10,
      "outputs": [
        {
          "output_type": "stream",
          "name": "stdout",
          "text": [
            "(4,) (4,)\n"
          ]
        }
      ]
    },
    {
      "cell_type": "markdown",
      "source": [
        "#### **예제 02**\n",
        "\n",
        "**예제 01**의 𝐱, 𝐲 에 대해 다음 연산을 진행하세요.\n",
        "\n",
        "* 𝐱 + 𝐲\n",
        "* 𝐱 - 𝐲\n",
        "* 𝐱 ⋅ 𝐲\n",
        "* 𝐱𝐲 (넘파이 브로드 케스팅 연산)"
      ],
      "metadata": {
        "id": "PHx6e1fVhtDh"
      }
    },
    {
      "cell_type": "code",
      "source": [
        "\n",
        "print('x+y:',x+y)\n",
        "print('x-y:',x-y)\n",
        "print('x*y:', x*y)\n",
        "print('x.y:', np.dot(x, y))"
      ],
      "metadata": {
        "id": "tBSVL92Jd1v7",
        "colab": {
          "base_uri": "https://localhost:8080/"
        },
        "outputId": "eb1d4e81-826d-4cb7-fd29-36534dd509f7"
      },
      "execution_count": 69,
      "outputs": [
        {
          "output_type": "stream",
          "name": "stdout",
          "text": [
            "x+y: [0 2 4]\n",
            "x-y: [0 0 0]\n",
            "x*y: [0 1 4]\n",
            "x.y: 5\n"
          ]
        }
      ]
    },
    {
      "cell_type": "markdown",
      "source": [
        "\n",
        "### **| 벡터와 스칼라의 연산**\n",
        "\n",
        "\\begin{split}\n",
        "\\begin{align}\n",
        "c𝐱 =\n",
        "c\n",
        "\\begin{bmatrix}\n",
        "x_1 \\\\\n",
        "x_2 \\\\\n",
        "... \\\\\n",
        "x_N \\\\\n",
        "\\end{bmatrix}\n",
        "=\n",
        "\\begin{bmatrix}\n",
        "cx_1  \\\\\n",
        "cx_2  \\\\\n",
        "... \\\\\n",
        "cx_N  \\\\\n",
        "\\end{bmatrix}\n",
        "\\end{align}\n",
        "\\end{split}\n",
        "\n",
        "\n",
        "* 브로드 캐스팅\n",
        "\n",
        "원래 덧셈과 뺄셈은 크기가 같은 두 벡터에 대해서만 할 수 있지만 벡터와 스칼라의 경우에는 관례적으로 다음과 같이 스칼라 값을 벡터로 변환하여 연산을 수행합니다.  이를 브로드 캐스팅(broad casting) 이라고 합니다.\n",
        "\n",
        "\\begin{split}\n",
        "\\begin{align}\n",
        "c+𝐱 =\n",
        "\\begin{bmatrix}\n",
        "c \\\\\n",
        "c \\\\\n",
        "... \\\\\n",
        "c \\\\\n",
        "\\end{bmatrix}\n",
        "+\n",
        "\\begin{bmatrix}\n",
        "x_1 \\\\\n",
        "x_2 \\\\\n",
        "... \\\\\n",
        "x_N \\\\\n",
        "\\end{bmatrix}\n",
        "=\n",
        "\\begin{bmatrix}\n",
        "c+x_1  \\\\\n",
        "c+x_2  \\\\\n",
        "... \\\\\n",
        "c+x_N  \\\\\n",
        "\\end{bmatrix}\n",
        "\\end{align}\n",
        "\\end{split}\n",
        "\n",
        "\\\\\n",
        "\n",
        "\\begin{split}\n",
        "\\begin{align}\n",
        "c-𝐱 =\n",
        "\\begin{bmatrix}\n",
        "c \\\\\n",
        "c \\\\\n",
        "... \\\\\n",
        "c \\\\\n",
        "\\end{bmatrix}\n",
        "-\n",
        "\\begin{bmatrix}\n",
        "x_1 \\\\\n",
        "x_2 \\\\\n",
        "... \\\\\n",
        "x_N \\\\\n",
        "\\end{bmatrix}\n",
        "=\n",
        "\\begin{bmatrix}\n",
        "c-x_1  \\\\\n",
        "c-x_2  \\\\\n",
        "... \\\\\n",
        "c-x_N  \\\\\n",
        "\\end{bmatrix}\n",
        "\\end{align}\n",
        "\\end{split}"
      ],
      "metadata": {
        "id": "i7AO2yCypuOf"
      }
    },
    {
      "cell_type": "markdown",
      "source": [
        "#### **예제 03**\n",
        "\n",
        "\\begin{split}\n",
        "\\begin{align}\n",
        "𝐱=\n",
        "\\begin{bmatrix}\n",
        "10 \\\\\n",
        "11 \\\\\n",
        "12 \\\\\n",
        "\\end{bmatrix}\n",
        ",\\;\\;\n",
        "𝐲=\n",
        "\\begin{bmatrix}\n",
        "0 \\\\\n",
        "1 \\\\\n",
        "2 \\\\\n",
        "\\end{bmatrix}\n",
        ", \\; c = 2\n",
        "\\end{align}\n",
        "\\end{split}\n",
        "\n",
        "\n"
      ],
      "metadata": {
        "id": "gn41v88LmJZ6"
      }
    },
    {
      "cell_type": "markdown",
      "source": [
        "* 𝐱, 𝐲, c 정의하기"
      ],
      "metadata": {
        "id": "qHbUVtFiq-JG"
      }
    },
    {
      "cell_type": "code",
      "source": [
        "x = np.array([[10],[11],[12]])\n",
        "y = np.array([0,1,2])\n",
        "c = 2\n",
        "print(x.shape, y.shape, c)"
      ],
      "metadata": {
        "id": "3bzsd-1Jkciq",
        "colab": {
          "base_uri": "https://localhost:8080/"
        },
        "outputId": "6d79d1db-0434-492b-9a57-14d242a6896c"
      },
      "execution_count": 30,
      "outputs": [
        {
          "output_type": "stream",
          "name": "stdout",
          "text": [
            "(3, 1) (3,) 2\n"
          ]
        }
      ]
    },
    {
      "cell_type": "markdown",
      "source": [
        "* $c𝐱-𝐲$ "
      ],
      "metadata": {
        "id": "jJVfzPRFrDUu"
      }
    },
    {
      "cell_type": "code",
      "source": [
        "print('c*x-y:',c*x-y)"
      ],
      "metadata": {
        "id": "q9gQ6Ri8rFRO",
        "colab": {
          "base_uri": "https://localhost:8080/"
        },
        "outputId": "bc6c19d4-ac98-4f41-be60-97588d3d42d2"
      },
      "execution_count": 16,
      "outputs": [
        {
          "output_type": "stream",
          "name": "stdout",
          "text": [
            "c*x-y: [20 21 22]\n"
          ]
        }
      ]
    },
    {
      "cell_type": "markdown",
      "source": [
        "* $𝐱^T𝐲$"
      ],
      "metadata": {
        "id": "J-446sswrFWZ"
      }
    },
    {
      "cell_type": "code",
      "source": [
        "d = x.T\n",
        "print('xT*y:',d*y)"
      ],
      "metadata": {
        "id": "IUGkyIhvrL_u",
        "colab": {
          "base_uri": "https://localhost:8080/"
        },
        "outputId": "d5551c52-fc71-4042-ac83-114c947d7c47"
      },
      "execution_count": 29,
      "outputs": [
        {
          "output_type": "stream",
          "name": "stdout",
          "text": [
            "xT*y: [[ 0 10 20]\n",
            " [ 0 11 22]\n",
            " [ 0 12 24]]\n"
          ]
        }
      ]
    },
    {
      "cell_type": "markdown",
      "source": [
        "* $2c𝐱+𝐲$"
      ],
      "metadata": {
        "id": "oASdmAl5rd0Y"
      }
    },
    {
      "cell_type": "code",
      "source": [
        "print('2*c*x+y:',2*c*x+y)"
      ],
      "metadata": {
        "id": "1cXlopvwrlRm",
        "colab": {
          "base_uri": "https://localhost:8080/"
        },
        "outputId": "0abef66e-91cd-4c25-fd03-0069433cbad0"
      },
      "execution_count": 68,
      "outputs": [
        {
          "output_type": "stream",
          "name": "stdout",
          "text": [
            "2*c*x+y: [ 0  5 10]\n"
          ]
        }
      ]
    },
    {
      "cell_type": "markdown",
      "source": [
        "#### **예제 04**\n",
        "\n",
        "도매로 A, B, C 세개의 물건을 사려 하는데 한 박스당 각각 10만원, 12만원, 20만원입니다. 각각 총 5박스, 8박스, 4박스를 사려고 합니다. \n",
        "\n",
        "(1) 박스가격과 구매 수량을 각각 p 벡터, n 벡터로 표시하고 넘파이로 코딩합니다.\n",
        "\n",
        "(2) 물건을 구입할 때 드는 총 비용을 계산하세요."
      ],
      "metadata": {
        "id": "kDj3EemGsDkA"
      }
    },
    {
      "cell_type": "code",
      "source": [
        "p = np.array([10,12,20])\n",
        "n = np.array([5,8,4])\n",
        "print('비용:',p@n)"
      ],
      "metadata": {
        "id": "R3NDw23HsDry",
        "colab": {
          "base_uri": "https://localhost:8080/"
        },
        "outputId": "b112f6eb-31e7-4b26-b360-4340578d8732"
      },
      "execution_count": 84,
      "outputs": [
        {
          "output_type": "stream",
          "name": "stdout",
          "text": [
            "비용: 226\n"
          ]
        }
      ]
    },
    {
      "cell_type": "markdown",
      "source": [
        "#### **예제 05**\n",
        "\n",
        "(1) 국어, 수학, 사회, 과학, 영어 의 시험 성적이 각각 70, 100, 90, 70, 50 입니다. 성적을 벡터 x 로 표시하고 넘파이로 코딩합니다.\n",
        "\n",
        "(2) 문과에서 과목별 가중치는 각각 0.25, 0.2, 0.2, 0.1, 0.25 입니다. 가중치를 벡터 w1 로 표시하고 넘파이로 코딩합니다.\n",
        "\n",
        "(3) 이과에서 과목별 가중치는 각각 0.15, 0.4, 0.1, 0.2, 0.15 입니다. 가중치를 벡터 w2 로 표시하고 넘파이로 코딩합니다.\n",
        "\n",
        "(4) 문과 가중치와 이과 가중치를 적용해서 성적의 총합을 계산하고 어떤 과를 가는게 유리한지 적으세요."
      ],
      "metadata": {
        "id": "xazFR86esvwl"
      }
    },
    {
      "cell_type": "code",
      "source": [
        "x = np.array([70,100,90,70,50])\n",
        "w1 = np.array([0.25, 0.2, 0.2, 0.1, 0.25])\n",
        "w2 = np.array([0.15, 0.4, 0.1, 0.2, 0.15])\n",
        "print('문과 가중치:',x@w1)\n",
        "print('이과 가중치:',x@w2)\n",
        "print('이과로 가야함')"
      ],
      "metadata": {
        "id": "w7qzzN3Hsvwr",
        "colab": {
          "base_uri": "https://localhost:8080/"
        },
        "outputId": "485e3961-f269-4bb3-a55e-bfd24cf0b5a2"
      },
      "execution_count": 86,
      "outputs": [
        {
          "output_type": "stream",
          "name": "stdout",
          "text": [
            "문과 가중치: 75.0\n",
            "이과 가중치: 81.0\n",
            "이과로 가야함\n"
          ]
        }
      ]
    },
    {
      "cell_type": "markdown",
      "source": [
        "## 행렬\n",
        "---\n",
        "\n",
        "* Second-order Tensor Operation\n",
        "\n",
        "\\begin{split}\n",
        "\\begin{align}\n",
        "A=\n",
        "\\begin{bmatrix}\n",
        "a_{11} \\ \\ \\ a_{12} \\ \\ \\ ... \\ \\ \\ a_{1M} \\\\\n",
        "a_{21} \\ \\ \\ a_{22} \\ \\ \\ ... \\ \\ \\ a_{2M} \\\\\n",
        "... \\ \\ \\ ... \\ \\ \\ ... \\ \\ \\ ... \\\\\n",
        "... \\ \\ \\ ... \\ \\ \\ a_{ij} \\ \\ \\ ... \\\\\n",
        "... \\ \\ \\ ... \\ \\ \\ ... \\ \\ \\ ... \\\\\n",
        "a_{N1} \\ \\ \\ a_{N2} \\ \\ \\ ... \\ \\ \\ a_{NM} \\\\\n",
        "\\end{bmatrix}\n",
        "\\ \\ , \\ \\ A∈ℝ^{N\\times M}\n",
        "\\end{align}\n",
        "\\end{split}\n",
        "\n"
      ],
      "metadata": {
        "id": "mXAe-U8okcwj"
      }
    },
    {
      "cell_type": "markdown",
      "source": [
        "\n",
        "### **| 행렬과 행렬의 연산**\n",
        "\n",
        "\n",
        "* 덧셈, 뺄셈\n",
        "\n",
        "\\begin{align}\n",
        "A+(-)B=\n",
        "\\begin{bmatrix}\n",
        "a_{11} \\ \\ \\ a_{12} \\ \\ \\ ... \\ \\ \\ a_{1M} \\\\\n",
        "a_{21} \\ \\ \\ a_{22} \\ \\ \\ ... \\ \\ \\ a_{2M} \\\\\n",
        "... \\ \\ \\ ... \\ \\ \\ ... \\ \\ \\ ... \\\\\n",
        "... \\ \\ \\ ... \\ \\ \\ a_{ij} \\ \\ \\ ... \\\\\n",
        "... \\ \\ \\ ... \\ \\ \\ ... \\ \\ \\ ... \\\\\n",
        "a_{N1} \\ \\ \\ a_{N2} \\ \\ \\ ... \\ \\ \\ a_{NM} \\\\\n",
        "\\end{bmatrix}\n",
        "+(-)\n",
        "\\begin{bmatrix}\n",
        "b_{11} \\ \\ \\ b_{12} \\ \\ \\ ... \\ \\ \\ b_{1M} \\\\\n",
        "b_{21} \\ \\ \\ b_{22} \\ \\ \\ ... \\ \\ \\ b_{2M} \\\\\n",
        "... \\ \\ \\ ... \\ \\ \\ ... \\ \\ \\ ... \\\\\n",
        "... \\ \\ \\ ... \\ \\ \\ b_{ij} \\ \\ \\ ... \\\\\n",
        "... \\ \\ \\ ... \\ \\ \\ ... \\ \\ \\ ... \\\\\n",
        "b_{N1} \\ \\ \\ b_{N2} \\ \\ \\ ... \\ \\ \\ b_{NM} \\\\\n",
        "\\end{bmatrix}\n",
        "\\end{align}\n",
        "\\begin{align}\n",
        "\\\\\n",
        "\\\\\n",
        "A∈ℝ^{N\\times M} \\ \\ \\ \\ B∈ℝ^{N\\times M}\n",
        "\\\\\n",
        "\\\\\n",
        "\\end{align}\n",
        "\n",
        "\n",
        "\n",
        "\n",
        "* 곱셈\n",
        "\n",
        "\\begin{align}\n",
        "\\\\\n",
        "\\\\\n",
        "A \\ \\ \\ \\ \\ \\ \\times \\ \\ \\ \\ \\ \\ B \\ \\ \\ \\ \\ \\ =  \\ \\ \\ \\ \\ C \\\\\n",
        "\\\\\n",
        "ℝ^{N\\times M} \\ \\ \\ \\ \\ \\ \\ \\ \\ ℝ^{M\\times K} \\  \\ \\ \\ \\ \\ \\ \\ ℝ^{N\\times K}\n",
        "\\end{align}"
      ],
      "metadata": {
        "id": "0EBcIIAAxMdY"
      }
    },
    {
      "cell_type": "markdown",
      "source": [
        "\n",
        "\n",
        "\n",
        "### **| 행렬과 벡터의 연산**\n",
        "\n",
        "* 곱셈\n",
        "\n",
        "\\begin{align}\n",
        "\\\\\n",
        "\\\\\n",
        "A \\ \\ \\ \\ \\ \\ \\times \\ \\ \\ \\ \\ \\ 𝐱 \\ \\ \\ \\ \\ \\ =  \\ \\ \\ \\ \\ A𝐱 \\\\\n",
        "\\\\\n",
        "ℝ^{N\\times M} \\ \\ \\ \\ \\ \\ \\ \\ \\ ℝ^{M\\times 1} \\  \\ \\ \\ \\ \\ \\ \\ ℝ^{N\\times 1}\n",
        "\\end{align}\n"
      ],
      "metadata": {
        "id": "HZhNDpognJu2"
      }
    },
    {
      "cell_type": "markdown",
      "source": [
        "#### **예제 06**\n",
        "\n",
        "\\begin{split}\n",
        "\\begin{align}\n",
        "A=\n",
        "\\begin{bmatrix}\n",
        "1 \\ \\ \\ 1 \\ \\ \\ 0 \\ \\ \\ 0 \\\\\n",
        "2 \\ \\ \\ 0 \\ \\ \\ 0 \\ \\ \\ 1 \\\\\n",
        "0 \\ \\ \\ 1 \\ \\ \\ 0 \\ \\ \\ 1 \\\\\n",
        "\\end{bmatrix}\n",
        "\\end{align}\n",
        "\\end{split}"
      ],
      "metadata": {
        "id": "V2gm-pdInTRF"
      }
    },
    {
      "cell_type": "markdown",
      "source": [
        "* $A$를 정의하세요."
      ],
      "metadata": {
        "id": "x6YrqquVnwod"
      }
    },
    {
      "cell_type": "code",
      "source": [
        "A = np. array([ [1,1,0,0],\n",
        "                [2,0,0,1],\n",
        "                [0,1,0,1] ])\n",
        "print(A.shape)"
      ],
      "metadata": {
        "id": "rff6Ypwanwr1",
        "colab": {
          "base_uri": "https://localhost:8080/"
        },
        "outputId": "db838daa-751e-4345-9759-480c36fe7709"
      },
      "execution_count": 31,
      "outputs": [
        {
          "output_type": "stream",
          "name": "stdout",
          "text": [
            "(3, 4)\n"
          ]
        }
      ]
    },
    {
      "cell_type": "markdown",
      "source": [
        "* $A∈ℝ^{N\\times M}$ 에서 N과 M을 구하세요."
      ],
      "metadata": {
        "id": "oG7p3s9Hnrrl"
      }
    },
    {
      "cell_type": "code",
      "source": [
        "#N : 3\n",
        "#M : 4"
      ],
      "metadata": {
        "id": "0TxxpqptnUnv"
      },
      "execution_count": 32,
      "outputs": []
    },
    {
      "cell_type": "code",
      "source": [
        "# 행렬곱 : @\n",
        "print(A.T)#A전치\n",
        "print(A)#A\n",
        "print(A.T@A) #A와 A전치의 행렬곱"
      ],
      "metadata": {
        "colab": {
          "base_uri": "https://localhost:8080/"
        },
        "id": "hA5FzwQBJe6D",
        "outputId": "a16fb4f2-046b-4a91-e1ac-109c80364e7b"
      },
      "execution_count": 35,
      "outputs": [
        {
          "output_type": "stream",
          "name": "stdout",
          "text": [
            "[[1 2 0]\n",
            " [1 0 1]\n",
            " [0 0 0]\n",
            " [0 1 1]]\n",
            "[[1 1 0 0]\n",
            " [2 0 0 1]\n",
            " [0 1 0 1]]\n",
            "[[5 1 0 2]\n",
            " [1 2 0 1]\n",
            " [0 0 0 0]\n",
            " [2 1 0 2]]\n"
          ]
        }
      ]
    },
    {
      "cell_type": "markdown",
      "source": [
        "#### **예제 07**\n",
        "\n",
        "\\begin{split}\n",
        "\\begin{align}\n",
        "A =\n",
        "\\begin{bmatrix}\n",
        "1 \\ \\ 2 \\ \\ 3 \\\\\n",
        "4 \\ \\ 5 \\ \\ 6 \\\\\n",
        "\\end{bmatrix}\n",
        "B =\n",
        "\\begin{bmatrix}\n",
        "1 \\ \\ 0 \\ \\ 0 \\\\\n",
        "0 \\ \\ 1 \\ \\ 0 \\\\\n",
        "0 \\ \\ 0 \\ \\ 1 \\\\\n",
        "\\end{bmatrix}\n",
        ",\\;\\;\n",
        "𝐱=\n",
        "\\begin{bmatrix}\n",
        "0 \\\\\n",
        "1 \\\\\n",
        "2 \\\\\n",
        "\\end{bmatrix}\n",
        ", \\; c = 2\n",
        "\\end{align}\n",
        "\\end{split}\n",
        "\n",
        "\n"
      ],
      "metadata": {
        "id": "9Y90HqUy4dvT"
      }
    },
    {
      "cell_type": "markdown",
      "source": [
        "* $A, B, 𝐱, c$ 정의하기"
      ],
      "metadata": {
        "id": "797vmDbR4dvZ"
      }
    },
    {
      "cell_type": "code",
      "source": [
        "c = 2\n",
        "x = np. array([0,1,2])\n",
        "A = np. array([ [1,2,3],\n",
        "                [4,5,6]])\n",
        "B = np. array([ [1,0,0],\n",
        "                [0,1,0],\n",
        "                [0,0,1]])\n",
        "print(A.shape, B.shape, x.shape, c)"
      ],
      "metadata": {
        "id": "RSNbZr6_4dvZ",
        "colab": {
          "base_uri": "https://localhost:8080/"
        },
        "outputId": "6fc61190-9c8f-4173-a55b-d78222c85cdd"
      },
      "execution_count": 46,
      "outputs": [
        {
          "output_type": "stream",
          "name": "stdout",
          "text": [
            "(2, 3) (3, 3) (3,) 2\n"
          ]
        }
      ]
    },
    {
      "cell_type": "code",
      "source": [
        ""
      ],
      "metadata": {
        "id": "onAADWvZJcxF"
      },
      "execution_count": null,
      "outputs": []
    },
    {
      "cell_type": "markdown",
      "source": [
        "* $cAB$ 을 계산하고 ℝ 의 변화를 쓰세요."
      ],
      "metadata": {
        "id": "20HvJyEI4dvZ"
      }
    },
    {
      "cell_type": "code",
      "source": [
        "print('c*A*B:',c*A@B)"
      ],
      "metadata": {
        "id": "5R7wMXjE4dvZ",
        "colab": {
          "base_uri": "https://localhost:8080/"
        },
        "outputId": "883b94bd-58d0-442e-f358-237096cbef02"
      },
      "execution_count": 47,
      "outputs": [
        {
          "output_type": "stream",
          "name": "stdout",
          "text": [
            "c*A*B: [[ 2  4  6]\n",
            " [ 8 10 12]]\n"
          ]
        }
      ]
    },
    {
      "cell_type": "markdown",
      "source": [
        "* $AB𝐱$"
      ],
      "metadata": {
        "id": "4r79slHG4dva"
      }
    },
    {
      "cell_type": "code",
      "source": [
        "print('A*B*x:',A@B@x)"
      ],
      "metadata": {
        "id": "OZZvs-7t4dva",
        "colab": {
          "base_uri": "https://localhost:8080/"
        },
        "outputId": "408fe7e1-762e-441d-ceee-dd6182f7b63e"
      },
      "execution_count": 48,
      "outputs": [
        {
          "output_type": "stream",
          "name": "stdout",
          "text": [
            "A*B*x: [ 8 17]\n"
          ]
        }
      ]
    },
    {
      "cell_type": "markdown",
      "source": [
        "* $𝐱^TBA^T$ 을 계산하고 ℝ 의 변화를 쓰세요."
      ],
      "metadata": {
        "id": "R7TcJH964dva"
      }
    },
    {
      "cell_type": "code",
      "source": [
        "print('xt*B*At:',x.T@B@A.T)"
      ],
      "metadata": {
        "id": "BJQtGchi4dva",
        "colab": {
          "base_uri": "https://localhost:8080/"
        },
        "outputId": "beaa55ff-a5d4-40c9-b830-d4593ce85c47"
      },
      "execution_count": 49,
      "outputs": [
        {
          "output_type": "stream",
          "name": "stdout",
          "text": [
            "xt*B*At: [ 8 17]\n"
          ]
        }
      ]
    },
    {
      "cell_type": "markdown",
      "source": [
        "#### **예제 08**\n",
        "\n",
        "행렬 $A$가 다음과 같이 주어졌을 때 $AB$ 행렬이 각 shape를 만족하도록 $B$를 정의하세요. 단 $B$의 값은 1부터 5까지 랜덤 정수 입니다.\n",
        "\n",
        "\\begin{split}\n",
        "\\begin{align}\n",
        "A =\n",
        "\\begin{bmatrix}\n",
        "1 \\ \\ 1 \\ \\ 1 \\ \\ 1 \\\\\n",
        "2 \\ \\ 2 \\ \\ 2 \\ \\ 2 \\\\\n",
        "\\end{bmatrix}\n",
        "\\end{align}\n",
        "\\end{split}\n",
        "\n",
        "\n",
        "\n",
        "\n"
      ],
      "metadata": {
        "id": "flJGa8_N6b3c"
      }
    },
    {
      "cell_type": "markdown",
      "source": [
        "* $A$ 정의하기"
      ],
      "metadata": {
        "id": "9z6pk6Ks6b3c"
      }
    },
    {
      "cell_type": "code",
      "source": [
        "A = np.array([[1,1,1,1],[2,2,2,2]])\n",
        "print(A.shape)"
      ],
      "metadata": {
        "id": "Y1rLUk0W7K91",
        "colab": {
          "base_uri": "https://localhost:8080/"
        },
        "outputId": "92311211-40a3-44aa-a555-e7eb0711a2ec"
      },
      "execution_count": 51,
      "outputs": [
        {
          "output_type": "stream",
          "name": "stdout",
          "text": [
            "(2, 4)\n"
          ]
        }
      ]
    },
    {
      "cell_type": "markdown",
      "source": [
        "* $AB \\in ℝ^{2\\times5}$ 일 때 $B$를 정의하고 $AB$를 계산하세요."
      ],
      "metadata": {
        "id": "axa7c9zM7LBW"
      }
    },
    {
      "cell_type": "code",
      "source": [
        "B = np.array([[1,1,1,1,1],\n",
        "             [1,1,1,1,2],\n",
        "             [1,1,1,1,3],\n",
        "            [1,1,1,1,4]])\n",
        "print(B.shape)\n",
        "print('A*B:',A@B)"
      ],
      "metadata": {
        "id": "MNLM4rsJ7SC3",
        "colab": {
          "base_uri": "https://localhost:8080/"
        },
        "outputId": "54b8e766-d435-45c8-9859-08af434bc160"
      },
      "execution_count": 63,
      "outputs": [
        {
          "output_type": "stream",
          "name": "stdout",
          "text": [
            "(4, 5)\n",
            "A*B: [[ 4  4  4  4 10]\n",
            " [ 8  8  8  8 20]]\n"
          ]
        }
      ]
    },
    {
      "cell_type": "markdown",
      "source": [
        "* $AB \\in ℝ^{2\\times3}$ 일 때 $B$를 정의하고 $AB$를 계산하세요."
      ],
      "metadata": {
        "id": "K5lR-8Gq7Zbr"
      }
    },
    {
      "cell_type": "code",
      "source": [
        "B = np.array([[1,1,1],\n",
        "             [1,1,1],\n",
        "             [1,1,1],\n",
        "            [1,1,1]])\n",
        "print(B.shape)\n",
        "print('A*B:',A@B)"
      ],
      "metadata": {
        "id": "kTv6QWNf7Zbs",
        "colab": {
          "base_uri": "https://localhost:8080/"
        },
        "outputId": "bb5fa50f-482e-41aa-a8c5-3ff77da5e3e3"
      },
      "execution_count": 66,
      "outputs": [
        {
          "output_type": "stream",
          "name": "stdout",
          "text": [
            "(4, 3)\n",
            "A*B: [[4 4 4]\n",
            " [8 8 8]]\n"
          ]
        }
      ]
    },
    {
      "cell_type": "markdown",
      "source": [
        "* $AB \\in ℝ^{2\\times1}$ 일 때 $B$를 정의하고 $AB$를 계산하세요."
      ],
      "metadata": {
        "id": "6T1Z7a2o7dtb"
      }
    },
    {
      "cell_type": "code",
      "source": [
        "B = np.array([[1],\n",
        "             [1],\n",
        "             [1],\n",
        "            [1]])\n",
        "print(B.shape)\n",
        "print('A*B:',A@B)"
      ],
      "metadata": {
        "id": "B8CfyOpY7dtc",
        "colab": {
          "base_uri": "https://localhost:8080/"
        },
        "outputId": "497e4fe2-1f79-4ec3-d060-204cbe11658f"
      },
      "execution_count": 67,
      "outputs": [
        {
          "output_type": "stream",
          "name": "stdout",
          "text": [
            "(4, 1)\n",
            "A*B: [[4]\n",
            " [8]]\n"
          ]
        }
      ]
    },
    {
      "cell_type": "markdown",
      "source": [
        "* $A$와 $M$ 두개의 값을 인풋으로 하면 $AB \\in ℝ^{N\\times M}$를 만족하는 랜덤행렬 $B$를 반환하도록 함수 `random_weights`를 생성하세요."
      ],
      "metadata": {
        "id": "VdV80fUjrbRi"
      }
    },
    {
      "cell_type": "code",
      "source": [
        "# X: 행렬, M : 정수\n",
        "def radom_weights(X, M):\n",
        "  B_shape =(X.shape[1], M)\n",
        "  B = np.random.normal(size=B_shape)\n",
        "  return B"
      ],
      "metadata": {
        "id": "B6Qflg8WsON9"
      },
      "execution_count": 78,
      "outputs": []
    },
    {
      "cell_type": "markdown",
      "source": [
        "* 함수 사용 예시"
      ],
      "metadata": {
        "id": "qsmTEg4vwabg"
      }
    },
    {
      "cell_type": "code",
      "source": [
        "B = radom_weights(A, 5)\n",
        "print(A.shape, B.shape, (A@B).shape)"
      ],
      "metadata": {
        "colab": {
          "base_uri": "https://localhost:8080/"
        },
        "id": "7_HakKX_u41-",
        "outputId": "4be36f4a-37d9-46f0-9f7c-3ed2651b512d"
      },
      "execution_count": 80,
      "outputs": [
        {
          "output_type": "stream",
          "name": "stdout",
          "text": [
            "(2, 4) (4, 5) (2, 5)\n"
          ]
        }
      ]
    },
    {
      "cell_type": "code",
      "source": [
        ""
      ],
      "metadata": {
        "id": "sZJ9q4f9oa_a"
      },
      "execution_count": null,
      "outputs": []
    }
  ]
}