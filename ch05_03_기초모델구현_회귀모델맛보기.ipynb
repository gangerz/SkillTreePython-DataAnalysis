{
  "cells": [
    {
      "cell_type": "markdown",
      "metadata": {
        "id": "view-in-github",
        "colab_type": "text"
      },
      "source": [
        "<a href=\"https://colab.research.google.com/github/gangerz/SkillTreePython-DataAnalysis/blob/main/ch05_03_%EA%B8%B0%EC%B4%88%EB%AA%A8%EB%8D%B8%EA%B5%AC%ED%98%84_%ED%9A%8C%EA%B7%80%EB%AA%A8%EB%8D%B8%EB%A7%9B%EB%B3%B4%EA%B8%B0.ipynb\" target=\"_parent\"><img src=\"https://colab.research.google.com/assets/colab-badge.svg\" alt=\"Open In Colab\"/></a>"
      ]
    },
    {
      "cell_type": "markdown",
      "metadata": {
        "id": "wWpXZc2fi39U"
      },
      "source": [
        "# ch05.03. 기초모델 구현 - 회귀모델 맛보기\n",
        "---\n",
        "* 날짜:2022-06-29\n",
        "* 이름:윤예현\n",
        "\n",
        "## 학습내용\n",
        "    - 회귀 분석의 개념에 대해 이해한다\n",
        "    - 단순 회귀 문제일 때의 프로세스에 대해 이해한다.\n",
        "    - 다중 회귀 문제일 때의 프로세스에 대해 이해한다.\n",
        "    - 모델링에 대한 전체적인 프로세스 과정을 이해한다. "
      ]
    },
    {
      "cell_type": "markdown",
      "metadata": {
        "id": "kByKdJPApy6P"
      },
      "source": [
        "```\n",
        "import numpy as np\n",
        "import matplotlib.pyplot as plt\n",
        "plt.style.use(\"ggplot\")\n",
        "```"
      ]
    },
    {
      "cell_type": "code",
      "execution_count": null,
      "metadata": {
        "id": "rJvcz-JikHbE"
      },
      "outputs": [],
      "source": [
        "import numpy as np\n",
        "import matplotlib.pyplot as plt\n",
        "plt.style.use(\"ggplot\")"
      ]
    },
    {
      "cell_type": "markdown",
      "metadata": {
        "id": "0XIixAG202GE"
      },
      "source": [
        "## 단순 회귀 문제\n",
        "---\n",
        "\n"
      ]
    },
    {
      "cell_type": "markdown",
      "metadata": {
        "id": "J7YFAQAl-i-v"
      },
      "source": [
        "\n",
        "|공부시간(x)|종합점수(y)|\n",
        "|------|---|\n",
        "|3|20|\n",
        "|5|50|\n",
        "|5|60|\n",
        "|7|90|\n",
        "|8|100|"
      ]
    },
    {
      "cell_type": "markdown",
      "metadata": {
        "id": "bxnIJBzukmUi"
      },
      "source": [
        "* 데이터 정의"
      ]
    },
    {
      "cell_type": "code",
      "execution_count": null,
      "metadata": {
        "id": "6-4N0_z4ZQrm",
        "colab": {
          "base_uri": "https://localhost:8080/"
        },
        "outputId": "67c074bc-160b-467d-cfb6-d719f29f4cbe"
      },
      "outputs": [
        {
          "output_type": "execute_result",
          "data": {
            "text/plain": [
              "((5,), (5,))"
            ]
          },
          "metadata": {},
          "execution_count": 3
        }
      ],
      "source": [
        "x = np.array([3,5,5,7,8])\n",
        "y = np.array([20,50,60,90,100])\n",
        "x.shape, y.shape"
      ]
    },
    {
      "cell_type": "markdown",
      "metadata": {
        "id": "24xjAjtnknyQ"
      },
      "source": [
        "* 데이터 시각화"
      ]
    },
    {
      "cell_type": "code",
      "execution_count": null,
      "metadata": {
        "id": "XJiw7pyIZZUs",
        "colab": {
          "base_uri": "https://localhost:8080/",
          "height": 299
        },
        "outputId": "831599be-93c2-47b5-cebc-faaf24fd49c3"
      },
      "outputs": [
        {
          "output_type": "execute_result",
          "data": {
            "text/plain": [
              "Text(0, 0.5, 'score(y)')"
            ]
          },
          "metadata": {},
          "execution_count": 6
        },
        {
          "output_type": "display_data",
          "data": {
            "text/plain": [
              "<Figure size 432x288 with 1 Axes>"
            ],
            "image/png": "[encoded data removed]"
          },
          "metadata": {
            "needs_background": "light"
          }
        }
      ],
      "source": [
        "# x값에 따른 y값을 나타냄\n",
        "\n",
        "plt. scatter(x, y, label= 'data') #좌표 평면에 점\n",
        "plt. legend()\n",
        "plt. xlabel('study time(x)') # x축 이름\n",
        "plt. ylabel('score(y)') # y축 이름"
      ]
    },
    {
      "cell_type": "markdown",
      "metadata": {
        "id": "T78Jn-w51W8b"
      },
      "source": [
        "### **| step 1. 모델 구현**\n",
        "\n",
        "$model(x;w) = wx$ \n",
        "* #x는 함수의 input \n",
        "* ;뒤에 값은 함수 안에 있는 파라미터"
      ]
    },
    {
      "cell_type": "markdown",
      "metadata": {
        "id": "1oRII_2Unt4j"
      },
      "source": [
        "* 모델 정의"
      ]
    },
    {
      "cell_type": "code",
      "execution_count": null,
      "metadata": {
        "id": "CiPKoWjG1Vzi"
      },
      "outputs": [],
      "source": [
        "def model(x, w=1):\n",
        "  return x*w"
      ]
    },
    {
      "cell_type": "markdown",
      "metadata": {
        "id": "tw0Gic-hHsr-"
      },
      "source": [
        "* 초기 모델 사용\n",
        "\n",
        "\n",
        "|공부시간(x)|종합점수(y)| 예측값 ($\\hat{y})$|\n",
        "|------|---|--|\n",
        "|3|20||\n",
        "|5|50||\n",
        "|5|60||\n",
        "|7|90||\n",
        "|8|100||"
      ]
    },
    {
      "cell_type": "code",
      "execution_count": null,
      "metadata": {
        "id": "Lx2tRC8uHssE",
        "colab": {
          "base_uri": "https://localhost:8080/"
        },
        "outputId": "6bd110b2-3c29-493d-ceef-592a70e4a42a"
      },
      "outputs": [
        {
          "output_type": "stream",
          "name": "stdout",
          "text": [
            "[3 5 5 7 8]\n"
          ]
        },
        {
          "output_type": "execute_result",
          "data": {
            "text/plain": [
              "array([3, 5, 5, 7, 8])"
            ]
          },
          "metadata": {},
          "execution_count": 14
        }
      ],
      "source": [
        "print(x)\n",
        "model(x)"
      ]
    },
    {
      "cell_type": "markdown",
      "metadata": {
        "id": "wXlz0IPRa2Ww"
      },
      "source": [
        "### **| step 2. 손실 (loss) 계산**\n",
        "\n",
        "$loss = |(\\hat{y}-y)|$"
      ]
    },
    {
      "cell_type": "markdown",
      "metadata": {
        "id": "Qz5lqzyYnvML"
      },
      "source": [
        "* 손실 계산 과정 정의"
      ]
    },
    {
      "cell_type": "code",
      "execution_count": null,
      "metadata": {
        "id": "Cf0XkrL7-jFw",
        "colab": {
          "base_uri": "https://localhost:8080/"
        },
        "outputId": "ea2150e6-36db-4c8d-afe4-4d4314409b70"
      },
      "outputs": [
        {
          "output_type": "stream",
          "name": "stdout",
          "text": [
            "x:[3 5 5 7 8]\n",
            "y:[ 20  50  60  90 100]\n",
            "y hat:[3 5 5 7 8]\n",
            "error:58.4\n"
          ]
        }
      ],
      "source": [
        "def loss(y, y_hat):\n",
        "  return np.sum(np.abs(y-y_hat))/len(y)\n",
        "\n",
        "y_hat = model(x)\n",
        "error = loss(y, y_hat)\n",
        "print(f'x:{x}')\n",
        "print(f'y:{y}')\n",
        "print(f'y hat:{y_hat}')\n",
        "print(f'error:{error}')"
      ]
    },
    {
      "cell_type": "markdown",
      "metadata": {
        "id": "d6llwXUYUils"
      },
      "source": [
        "### **| step 3. 최적화 (Optimizer)**\n"
      ]
    },
    {
      "cell_type": "markdown",
      "metadata": {
        "id": "h6Z4rnEieM9B"
      },
      "source": [
        "*  학습 파라미터 $w$를 5부터 20까지 바꿔가며 손실 계산하기\n"
      ]
    },
    {
      "cell_type": "code",
      "execution_count": null,
      "metadata": {
        "id": "CVcY1IrX6oMQ",
        "colab": {
          "base_uri": "https://localhost:8080/",
          "height": 613
        },
        "outputId": "77a191e8-7b47-4ef0-a5c4-63402b4487cc"
      },
      "outputs": [
        {
          "output_type": "stream",
          "name": "stdout",
          "text": [
            "*w=1일때 error = 58.4\n",
            "*w=2일때 error = 52.8\n",
            "*w=3일때 error = 47.2\n",
            "*w=4일때 error = 41.6\n",
            "*w=5일때 error = 36.0\n",
            "*w=6일때 error = 30.4\n",
            "*w=7일때 error = 25.2\n",
            "*w=8일때 error = 20.8\n",
            "*w=9일때 error = 16.4\n",
            "*w=10일때 error = 12.0\n",
            "*w=11일때 error = 9.6\n",
            "*w=12일때 error = 7.2\n",
            "*w=13일때 error = 8.8\n",
            "*w=14일때 error = 14.4\n",
            "*w=15일때 error = 20.0\n",
            "*w=16일때 error = 25.6\n",
            "*w=17일때 error = 31.2\n",
            "*w=18일때 error = 36.8\n",
            "*w=19일때 error = 42.4\n",
            "*w=20일때 error = 48.0\n"
          ]
        },
        {
          "output_type": "display_data",
          "data": {
            "text/plain": [
              "<Figure size 432x288 with 1 Axes>"
            ],
            "image/png": "[encoded data removed]"
          },
          "metadata": {
            "needs_background": "light"
          }
        }
      ],
      "source": [
        "for w in range(1,21):\n",
        "  y_pred = model(x, w=w)\n",
        "  error = loss(y, y_pred)\n",
        "  print(f'*w={w}일때 error = {error}')\n",
        "\n",
        "  # 가중치 w에 대한 오차 error 시각화\n",
        "\n",
        "  plt.scatter(w, error) #좌표 평면에 점\n"
      ]
    },
    {
      "cell_type": "markdown",
      "metadata": {
        "id": "oGdLxsS6i-Dx"
      },
      "source": [
        "### **| step 4. 예측 (Prediction)**"
      ]
    },
    {
      "cell_type": "markdown",
      "metadata": {
        "id": "4IZWpxblmXf4"
      },
      "source": [
        "* 학습 완료된 모델의 최종 손실 계산"
      ]
    },
    {
      "cell_type": "code",
      "execution_count": null,
      "metadata": {
        "id": "BYPyHmrZma6L",
        "colab": {
          "base_uri": "https://localhost:8080/"
        },
        "outputId": "c66c8092-67bc-4479-c160-34b78f30a958"
      },
      "outputs": [
        {
          "output_type": "stream",
          "name": "stdout",
          "text": [
            "7.2\n"
          ]
        }
      ],
      "source": [
        "w_ = 12\n",
        "y_pred = model(x, w=w_)\n",
        "error = loss(y, y_pred)\n",
        "print(error)"
      ]
    },
    {
      "cell_type": "markdown",
      "metadata": {
        "id": "JAeFNWivlDOY"
      },
      "source": [
        "* 학습 완료된 모델에 대한 예측 시각화"
      ]
    },
    {
      "cell_type": "code",
      "execution_count": null,
      "metadata": {
        "id": "M3oAlKRdUi0Q",
        "colab": {
          "base_uri": "https://localhost:8080/",
          "height": 629
        },
        "outputId": "6a1d31cd-abca-463a-fa32-cf2af2468578"
      },
      "outputs": [
        {
          "output_type": "stream",
          "name": "stdout",
          "text": [
            "[ 0.          0.20408163  0.40816327  0.6122449   0.81632653  1.02040816\n",
            "  1.2244898   1.42857143  1.63265306  1.83673469  2.04081633  2.24489796\n",
            "  2.44897959  2.65306122  2.85714286  3.06122449  3.26530612  3.46938776\n",
            "  3.67346939  3.87755102  4.08163265  4.28571429  4.48979592  4.69387755\n",
            "  4.89795918  5.10204082  5.30612245  5.51020408  5.71428571  5.91836735\n",
            "  6.12244898  6.32653061  6.53061224  6.73469388  6.93877551  7.14285714\n",
            "  7.34693878  7.55102041  7.75510204  7.95918367  8.16326531  8.36734694\n",
            "  8.57142857  8.7755102   8.97959184  9.18367347  9.3877551   9.59183673\n",
            "  9.79591837 10.        ]\n",
            "[  0.           2.44897959   4.89795918   7.34693878   9.79591837\n",
            "  12.24489796  14.69387755  17.14285714  19.59183673  22.04081633\n",
            "  24.48979592  26.93877551  29.3877551   31.83673469  34.28571429\n",
            "  36.73469388  39.18367347  41.63265306  44.08163265  46.53061224\n",
            "  48.97959184  51.42857143  53.87755102  56.32653061  58.7755102\n",
            "  61.2244898   63.67346939  66.12244898  68.57142857  71.02040816\n",
            "  73.46938776  75.91836735  78.36734694  80.81632653  83.26530612\n",
            "  85.71428571  88.16326531  90.6122449   93.06122449  95.51020408\n",
            "  97.95918367 100.40816327 102.85714286 105.30612245 107.75510204\n",
            " 110.20408163 112.65306122 115.10204082 117.55102041 120.        ]\n"
          ]
        },
        {
          "output_type": "execute_result",
          "data": {
            "text/plain": [
              "Text(0, 0.5, 'score(y)')"
            ]
          },
          "metadata": {},
          "execution_count": 61
        },
        {
          "output_type": "display_data",
          "data": {
            "text/plain": [
              "<Figure size 432x288 with 1 Axes>"
            ],
            "image/png": "[encoded data removed]"
          },
          "metadata": {
            "needs_background": "light"
          }
        }
      ],
      "source": [
        "test_x = np.linspace(0,10,50)\n",
        "print(test_x)\n",
        "test_y_pred = model(test_x, w=w_)\n",
        "print(test_y_pred)\n",
        "# x값에 따른 y값을 나타냄\n",
        "\n",
        "plt. scatter(x, y, label= 'data',c ='k')\n",
        "plt. plot(test_x, test_y_pred, label = 'model')\n",
        "plt. legend()\n",
        "plt. xlabel('study time(x)') \n",
        "plt. ylabel('score(y)') "
      ]
    },
    {
      "cell_type": "markdown",
      "metadata": {
        "id": "K93m-5wlj9di"
      },
      "source": [
        "* 공부시간이 6시간일 때 예상 점수는?\n"
      ]
    },
    {
      "cell_type": "code",
      "execution_count": null,
      "metadata": {
        "id": "VTwDTwh5kCFu",
        "colab": {
          "base_uri": "https://localhost:8080/"
        },
        "outputId": "fb625643-7f68-43ec-feab-73ccd988e953"
      },
      "outputs": [
        {
          "output_type": "execute_result",
          "data": {
            "text/plain": [
              "72"
            ]
          },
          "metadata": {},
          "execution_count": 44
        }
      ],
      "source": [
        "model(6, w=w_)\n"
      ]
    },
    {
      "cell_type": "markdown",
      "metadata": {
        "id": "HuPZDUrGkiaa"
      },
      "source": [
        "### **| step 5. 평가 (Evaluation)**\n",
        "\n",
        "* 훈련 데이터셋\n",
        "\n",
        "|공부시간(x)|종합점수(y)|\n",
        "|------|---|\n",
        "|3|20|\n",
        "|5|50|\n",
        "|5|60|\n",
        "|7|90|\n",
        "|8|100|\n",
        "\n",
        "* 테스트 데이터셋\n",
        "\n",
        "|공부시간(x)|종합점수(y)|\n",
        "|------|---|\n",
        "|1|5|\n",
        "|2|15|\n",
        "|5|55|\n",
        "|6|80|\n",
        "|7|85|"
      ]
    },
    {
      "cell_type": "markdown",
      "metadata": {
        "id": "4NmJ0xmannN-"
      },
      "source": [
        "* 테스트 데이터셋 정의"
      ]
    },
    {
      "cell_type": "code",
      "execution_count": null,
      "metadata": {
        "id": "AOTA_VP4lzEC"
      },
      "outputs": [],
      "source": [
        "x_test = np.array([1,2,5,6,7])\n",
        "y_test = np.array([5,15,55,80,85])"
      ]
    },
    {
      "cell_type": "markdown",
      "metadata": {
        "id": "8XCx9jv2mldX"
      },
      "source": [
        "* 학습 완료된 모델에 테스트 데이터로 최종 손실 계산 (평가)"
      ]
    },
    {
      "cell_type": "code",
      "execution_count": null,
      "metadata": {
        "id": "yA9-cxT1mldY",
        "colab": {
          "base_uri": "https://localhost:8080/"
        },
        "outputId": "a6fa8af0-aa58-4823-b3f3-008a42db9934"
      },
      "outputs": [
        {
          "output_type": "execute_result",
          "data": {
            "text/plain": [
              "6.0"
            ]
          },
          "metadata": {},
          "execution_count": 63
        }
      ],
      "source": [
        "loss(y_test, model(x_test,w=w_))"
      ]
    },
    {
      "cell_type": "markdown",
      "metadata": {
        "id": "hQ6ImEhomldY"
      },
      "source": [
        "* 학습 완료된 모델에 테스트 데이터 예측 시각화"
      ]
    },
    {
      "cell_type": "code",
      "execution_count": null,
      "metadata": {
        "id": "orzg2SatmldY",
        "colab": {
          "base_uri": "https://localhost:8080/",
          "height": 299
        },
        "outputId": "d0496a24-c330-417a-e1b3-93fcb497e3c4"
      },
      "outputs": [
        {
          "output_type": "execute_result",
          "data": {
            "text/plain": [
              "Text(0, 0.5, 'score(y)')"
            ]
          },
          "metadata": {},
          "execution_count": 66
        },
        {
          "output_type": "display_data",
          "data": {
            "text/plain": [
              "<Figure size 432x288 with 1 Axes>"
            ],
            "image/png": "[encoded data removed]"
          },
          "metadata": {
            "needs_background": "light"
          }
        }
      ],
      "source": [
        "# 데이터\n",
        "plt. scatter(x, y, label= 'data',c ='k')\n",
        "# 모델\n",
        "plt. plot(test_x, test_y_pred, label = 'model')\n",
        "#테스트 데이터\n",
        "plt. scatter(x_test, y_test, label = 'test data', c='b')\n",
        "plt. legend()\n",
        "plt. xlabel('study time(x)') \n",
        "plt. ylabel('score(y)') "
      ]
    },
    {
      "cell_type": "markdown",
      "metadata": {
        "id": "ihClk4zZoAI4"
      },
      "source": [
        "## 다중 회귀 문제\n",
        "---\n",
        "\n",
        "\n",
        "\n",
        "|공부시간|수면시간|종합점수|\n",
        "|------|---|--|\n",
        "|2|9|20|\n",
        "|6|8|50|\n",
        "|4|7|60|\n",
        "|7|6|90|\n",
        "|8|6|100|\n"
      ]
    },
    {
      "cell_type": "markdown",
      "metadata": {
        "id": "wIoEOBxAoAI-"
      },
      "source": [
        "* 데이터 정의"
      ]
    },
    {
      "cell_type": "code",
      "execution_count": null,
      "metadata": {
        "id": "e99JIH2IoAI-",
        "colab": {
          "base_uri": "https://localhost:8080/"
        },
        "outputId": "430f55fb-16c6-4f01-9b10-c4de4d59f807"
      },
      "outputs": [
        {
          "output_type": "stream",
          "name": "stdout",
          "text": [
            "[[2 9]\n",
            " [6 8]\n",
            " [4 7]\n",
            " [7 6]\n",
            " [8 6]] (5, 2)\n",
            "[ 20  80  60  90 100] (5,)\n"
          ]
        }
      ],
      "source": [
        "\n",
        "x = np.array([2,9,6,8,4,7,7,6,8,6]).reshape(5,2)\n",
        "y = np.array([20,80,60,90,100])\n",
        "print(x,x.shape)\n",
        "print(y,y.shape)\n"
      ]
    },
    {
      "cell_type": "markdown",
      "metadata": {
        "id": "WwIRwRKsoAI-"
      },
      "source": [
        "* 데이터 시각화"
      ]
    },
    {
      "cell_type": "code",
      "execution_count": null,
      "metadata": {
        "id": "kmz_RHY7oAI-",
        "colab": {
          "base_uri": "https://localhost:8080/",
          "height": 374
        },
        "outputId": "0df12ff8-89a0-41fc-9b24-a23a5e4c25ca"
      },
      "outputs": [
        {
          "output_type": "execute_result",
          "data": {
            "text/plain": [
              "Text(0.5, 0, 'score')"
            ]
          },
          "metadata": {},
          "execution_count": 72
        },
        {
          "output_type": "display_data",
          "data": {
            "text/plain": [
              "<Figure size 576x432 with 1 Axes>"
            ],
            "image/png": "[encoded data removed]"
          },
          "metadata": {
            "needs_background": "light"
          }
        }
      ],
      "source": [
        "\n",
        "fig = plt.figure(figsize=(8,6)) #그림 전체 사이즈 설정\n",
        "ax = plt.axes(projection='3d') #좌표를 3dㅀ 설정\n",
        "# 공부시간(x_*1), 수면시간 (x_*2), 성적 (y)\n",
        "study_time = x[:,0]\n",
        "sleep_time = x[:,1]\n",
        "ax.scatter3D(study_time, sleep_time,y, c='k', label = 'data')\n",
        "plt.legend()\n",
        "ax.set_xlabel('study time')\n",
        "ax.set_ylabel('sleep time')\n",
        "ax.set_zlabel('score')"
      ]
    },
    {
      "cell_type": "markdown",
      "metadata": {
        "id": "P1XJIM3QoAI_"
      },
      "source": [
        "### **| step 1. 모델 구현**\n",
        "\n",
        "$model(\\vec{x};\\vec{w}) = w_1x_1+w_2x_2$"
      ]
    },
    {
      "cell_type": "markdown",
      "metadata": {
        "id": "1rbeL7DdoAI_"
      },
      "source": [
        "* 모델 정의"
      ]
    },
    {
      "cell_type": "code",
      "execution_count": null,
      "metadata": {
        "id": "tIXh_8b3oAI_",
        "colab": {
          "base_uri": "https://localhost:8080/"
        },
        "outputId": "eaf353c2-e0ef-4638-b69e-94716f52949a"
      },
      "outputs": [
        {
          "output_type": "execute_result",
          "data": {
            "text/plain": [
              "15"
            ]
          },
          "metadata": {},
          "execution_count": 73
        }
      ],
      "source": [
        "def model2(x_vec, w_vec=np.array([1,1])):\n",
        "  return np.dot(x_vec, w_vec)\n",
        "x_vec = np.array([5,10])\n",
        "model2(x_vec)"
      ]
    },
    {
      "cell_type": "markdown",
      "metadata": {
        "id": "Ctd2sTIitUlD"
      },
      "source": [
        "* 초기 모델 사용\n",
        "\n",
        "\n",
        "|공부시간|수면시간|종합점수|예측값 ($\\hat{y}$)|\n",
        "|------|---|--|--|\n",
        "|2|9|20|\n",
        "|6|8|50|\n",
        "|4|7|60|\n",
        "|7|6|90|\n",
        "|8|6|100|"
      ]
    },
    {
      "cell_type": "code",
      "execution_count": null,
      "metadata": {
        "id": "X8EkETtStdMY",
        "colab": {
          "base_uri": "https://localhost:8080/"
        },
        "outputId": "04eabb16-45d3-4e52-a3ee-512985706674"
      },
      "outputs": [
        {
          "output_type": "stream",
          "name": "stdout",
          "text": [
            "[[2 9]\n",
            " [6 8]\n",
            " [4 7]\n",
            " [7 6]\n",
            " [8 6]]\n"
          ]
        },
        {
          "output_type": "execute_result",
          "data": {
            "text/plain": [
              "array([11, 14, 11, 13, 14])"
            ]
          },
          "metadata": {},
          "execution_count": 74
        }
      ],
      "source": [
        "print(x)\n",
        "model2(x)"
      ]
    },
    {
      "cell_type": "markdown",
      "metadata": {
        "id": "a8BipUgAoAI_"
      },
      "source": [
        "### **| step 2. 손실 (loss) 계산**\n",
        "\n",
        "$loss = |(\\hat{y}-y)|$"
      ]
    },
    {
      "cell_type": "markdown",
      "metadata": {
        "id": "ismq5JEWoAI_"
      },
      "source": [
        "* 손실 계산 과정 정의"
      ]
    },
    {
      "cell_type": "code",
      "execution_count": null,
      "metadata": {
        "id": "pF8gP8tRoAI_",
        "colab": {
          "base_uri": "https://localhost:8080/"
        },
        "outputId": "14863346-7ad3-4a08-f4a8-1d80abe6d15b"
      },
      "outputs": [
        {
          "output_type": "stream",
          "name": "stdout",
          "text": [
            "[11 14 11 13 14]\n"
          ]
        },
        {
          "output_type": "execute_result",
          "data": {
            "text/plain": [
              "57.4"
            ]
          },
          "metadata": {},
          "execution_count": 75
        }
      ],
      "source": [
        "y_pred =model2(x)\n",
        "print(y_pred)\n",
        "loss(y,y_pred)"
      ]
    },
    {
      "cell_type": "markdown",
      "metadata": {
        "id": "j0ygQOChoAI_"
      },
      "source": [
        "### **| step 3. 최적화 (Optimizer)**\n"
      ]
    },
    {
      "cell_type": "markdown",
      "metadata": {
        "id": "TrXTChVioAI_"
      },
      "source": [
        "*  학습 파라미터 $w_1$를 0부터 30, $w_2$를 -10부터 10까지 바꿔가며 손실 계산하기\n"
      ]
    },
    {
      "cell_type": "code",
      "execution_count": null,
      "metadata": {
        "id": "B0wL8d4DoAJA",
        "colab": {
          "base_uri": "https://localhost:8080/"
        },
        "outputId": "6cde5093-cb0c-4780-f0ba-7c0a276e48d1"
      },
      "outputs": [
        {
          "output_type": "stream",
          "name": "stdout",
          "text": [
            "[ 0  1  2  3  4  5  6  7  8  9 10 11 12 13 14 15 16 17 18 19 20 21 22 23\n",
            " 24 25 26 27 28 29 30]\n",
            "[-10  -9  -8  -7  -6  -5  -4  -3  -2  -1   0   1   2   3   4   5   6   7\n",
            "   8   9  10]\n"
          ]
        }
      ],
      "source": [
        "w1_range= np.arange(31)\n",
        "w2_range= np.arange(-10,11)\n",
        "print(w1_range)\n",
        "print(w2_range)\n",
        "#(w1,w2) 순서쌍을 구하기\n",
        "W1,W2 = np.meshgrid(w1_range,w2_range)\n"
      ]
    },
    {
      "cell_type": "code",
      "source": [
        "errors =[]\n",
        "for w1,w2 in zip(W1.flatten(),W2.flatten()):\n",
        "  print(w1,w2)\n",
        "  y_pred =model2(x,w_vec = np.array([w1,w2]))\n",
        "  error = loss(y,y_pred)\n",
        "  print(f'w1={w1}, w2={w2}일때 예측값은{y_pred}')\n",
        "  errors.append(error)\n",
        "print(errors)"
      ],
      "metadata": {
        "colab": {
          "base_uri": "https://localhost:8080/"
        },
        "id": "S8YXJQc6--vD",
        "outputId": "13d1b450-ede3-4c39-f1c5-d3b526459f96"
      },
      "execution_count": null,
      "outputs": [
        {
          "output_type": "stream",
          "name": "stdout",
          "text": [
            "0 -10\n",
            "w1=0, w2=-10일때 예측값은[-90 -80 -70 -60 -60]\n",
            "1 -10\n",
            "w1=1, w2=-10일때 예측값은[-88 -74 -66 -53 -52]\n",
            "2 -10\n",
            "w1=2, w2=-10일때 예측값은[-86 -68 -62 -46 -44]\n",
            "3 -10\n",
            "w1=3, w2=-10일때 예측값은[-84 -62 -58 -39 -36]\n",
            "4 -10\n",
            "w1=4, w2=-10일때 예측값은[-82 -56 -54 -32 -28]\n",
            "5 -10\n",
            "w1=5, w2=-10일때 예측값은[-80 -50 -50 -25 -20]\n",
            "6 -10\n",
            "w1=6, w2=-10일때 예측값은[-78 -44 -46 -18 -12]\n",
            "7 -10\n",
            "w1=7, w2=-10일때 예측값은[-76 -38 -42 -11  -4]\n",
            "8 -10\n",
            "w1=8, w2=-10일때 예측값은[-74 -32 -38  -4   4]\n",
            "9 -10\n",
            "w1=9, w2=-10일때 예측값은[-72 -26 -34   3  12]\n",
            "10 -10\n",
            "w1=10, w2=-10일때 예측값은[-70 -20 -30  10  20]\n",
            "11 -10\n",
            "w1=11, w2=-10일때 예측값은[-68 -14 -26  17  28]\n",
            "12 -10\n",
            "w1=12, w2=-10일때 예측값은[-66  -8 -22  24  36]\n",
            "13 -10\n",
            "w1=13, w2=-10일때 예측값은[-64  -2 -18  31  44]\n",
            "14 -10\n",
            "w1=14, w2=-10일때 예측값은[-62   4 -14  38  52]\n",
            "15 -10\n",
            "w1=15, w2=-10일때 예측값은[-60  10 -10  45  60]\n",
            "16 -10\n",
            "w1=16, w2=-10일때 예측값은[-58  16  -6  52  68]\n",
            "17 -10\n",
            "w1=17, w2=-10일때 예측값은[-56  22  -2  59  76]\n",
            "18 -10\n",
            "w1=18, w2=-10일때 예측값은[-54  28   2  66  84]\n",
            "19 -10\n",
            "w1=19, w2=-10일때 예측값은[-52  34   6  73  92]\n",
            "20 -10\n",
            "w1=20, w2=-10일때 예측값은[-50  40  10  80 100]\n",
            "21 -10\n",
            "w1=21, w2=-10일때 예측값은[-48  46  14  87 108]\n",
            "22 -10\n",
            "w1=22, w2=-10일때 예측값은[-46  52  18  94 116]\n",
            "23 -10\n",
            "w1=23, w2=-10일때 예측값은[-44  58  22 101 124]\n",
            "24 -10\n",
            "w1=24, w2=-10일때 예측값은[-42  64  26 108 132]\n",
            "25 -10\n",
            "w1=25, w2=-10일때 예측값은[-40  70  30 115 140]\n",
            "26 -10\n",
            "w1=26, w2=-10일때 예측값은[-38  76  34 122 148]\n",
            "27 -10\n",
            "w1=27, w2=-10일때 예측값은[-36  82  38 129 156]\n",
            "28 -10\n",
            "w1=28, w2=-10일때 예측값은[-34  88  42 136 164]\n",
            "29 -10\n",
            "w1=29, w2=-10일때 예측값은[-32  94  46 143 172]\n",
            "30 -10\n",
            "w1=30, w2=-10일때 예측값은[-30 100  50 150 180]\n",
            "0 -9\n",
            "w1=0, w2=-9일때 예측값은[-81 -72 -63 -54 -54]\n",
            "1 -9\n",
            "w1=1, w2=-9일때 예측값은[-79 -66 -59 -47 -46]\n",
            "2 -9\n",
            "w1=2, w2=-9일때 예측값은[-77 -60 -55 -40 -38]\n",
            "3 -9\n",
            "w1=3, w2=-9일때 예측값은[-75 -54 -51 -33 -30]\n",
            "4 -9\n",
            "w1=4, w2=-9일때 예측값은[-73 -48 -47 -26 -22]\n",
            "5 -9\n",
            "w1=5, w2=-9일때 예측값은[-71 -42 -43 -19 -14]\n",
            "6 -9\n",
            "w1=6, w2=-9일때 예측값은[-69 -36 -39 -12  -6]\n",
            "7 -9\n",
            "w1=7, w2=-9일때 예측값은[-67 -30 -35  -5   2]\n",
            "8 -9\n",
            "w1=8, w2=-9일때 예측값은[-65 -24 -31   2  10]\n",
            "9 -9\n",
            "w1=9, w2=-9일때 예측값은[-63 -18 -27   9  18]\n",
            "10 -9\n",
            "w1=10, w2=-9일때 예측값은[-61 -12 -23  16  26]\n",
            "11 -9\n",
            "w1=11, w2=-9일때 예측값은[-59  -6 -19  23  34]\n",
            "12 -9\n",
            "w1=12, w2=-9일때 예측값은[-57   0 -15  30  42]\n",
            "13 -9\n",
            "w1=13, w2=-9일때 예측값은[-55   6 -11  37  50]\n",
            "14 -9\n",
            "w1=14, w2=-9일때 예측값은[-53  12  -7  44  58]\n",
            "15 -9\n",
            "w1=15, w2=-9일때 예측값은[-51  18  -3  51  66]\n",
            "16 -9\n",
            "w1=16, w2=-9일때 예측값은[-49  24   1  58  74]\n",
            "17 -9\n",
            "w1=17, w2=-9일때 예측값은[-47  30   5  65  82]\n",
            "18 -9\n",
            "w1=18, w2=-9일때 예측값은[-45  36   9  72  90]\n",
            "19 -9\n",
            "w1=19, w2=-9일때 예측값은[-43  42  13  79  98]\n",
            "20 -9\n",
            "w1=20, w2=-9일때 예측값은[-41  48  17  86 106]\n",
            "21 -9\n",
            "w1=21, w2=-9일때 예측값은[-39  54  21  93 114]\n",
            "22 -9\n",
            "w1=22, w2=-9일때 예측값은[-37  60  25 100 122]\n",
            "23 -9\n",
            "w1=23, w2=-9일때 예측값은[-35  66  29 107 130]\n",
            "24 -9\n",
            "w1=24, w2=-9일때 예측값은[-33  72  33 114 138]\n",
            "25 -9\n",
            "w1=25, w2=-9일때 예측값은[-31  78  37 121 146]\n",
            "26 -9\n",
            "w1=26, w2=-9일때 예측값은[-29  84  41 128 154]\n",
            "27 -9\n",
            "w1=27, w2=-9일때 예측값은[-27  90  45 135 162]\n",
            "28 -9\n",
            "w1=28, w2=-9일때 예측값은[-25  96  49 142 170]\n",
            "29 -9\n",
            "w1=29, w2=-9일때 예측값은[-23 102  53 149 178]\n",
            "30 -9\n",
            "w1=30, w2=-9일때 예측값은[-21 108  57 156 186]\n",
            "0 -8\n",
            "w1=0, w2=-8일때 예측값은[-72 -64 -56 -48 -48]\n",
            "1 -8\n",
            "w1=1, w2=-8일때 예측값은[-70 -58 -52 -41 -40]\n",
            "2 -8\n",
            "w1=2, w2=-8일때 예측값은[-68 -52 -48 -34 -32]\n",
            "3 -8\n",
            "w1=3, w2=-8일때 예측값은[-66 -46 -44 -27 -24]\n",
            "4 -8\n",
            "w1=4, w2=-8일때 예측값은[-64 -40 -40 -20 -16]\n",
            "5 -8\n",
            "w1=5, w2=-8일때 예측값은[-62 -34 -36 -13  -8]\n",
            "6 -8\n",
            "w1=6, w2=-8일때 예측값은[-60 -28 -32  -6   0]\n",
            "7 -8\n",
            "w1=7, w2=-8일때 예측값은[-58 -22 -28   1   8]\n",
            "8 -8\n",
            "w1=8, w2=-8일때 예측값은[-56 -16 -24   8  16]\n",
            "9 -8\n",
            "w1=9, w2=-8일때 예측값은[-54 -10 -20  15  24]\n",
            "10 -8\n",
            "w1=10, w2=-8일때 예측값은[-52  -4 -16  22  32]\n",
            "11 -8\n",
            "w1=11, w2=-8일때 예측값은[-50   2 -12  29  40]\n",
            "12 -8\n",
            "w1=12, w2=-8일때 예측값은[-48   8  -8  36  48]\n",
            "13 -8\n",
            "w1=13, w2=-8일때 예측값은[-46  14  -4  43  56]\n",
            "14 -8\n",
            "w1=14, w2=-8일때 예측값은[-44  20   0  50  64]\n",
            "15 -8\n",
            "w1=15, w2=-8일때 예측값은[-42  26   4  57  72]\n",
            "16 -8\n",
            "w1=16, w2=-8일때 예측값은[-40  32   8  64  80]\n",
            "17 -8\n",
            "w1=17, w2=-8일때 예측값은[-38  38  12  71  88]\n",
            "18 -8\n",
            "w1=18, w2=-8일때 예측값은[-36  44  16  78  96]\n",
            "19 -8\n",
            "w1=19, w2=-8일때 예측값은[-34  50  20  85 104]\n",
            "20 -8\n",
            "w1=20, w2=-8일때 예측값은[-32  56  24  92 112]\n",
            "21 -8\n",
            "w1=21, w2=-8일때 예측값은[-30  62  28  99 120]\n",
            "22 -8\n",
            "w1=22, w2=-8일때 예측값은[-28  68  32 106 128]\n",
            "23 -8\n",
            "w1=23, w2=-8일때 예측값은[-26  74  36 113 136]\n",
            "24 -8\n",
            "w1=24, w2=-8일때 예측값은[-24  80  40 120 144]\n",
            "25 -8\n",
            "w1=25, w2=-8일때 예측값은[-22  86  44 127 152]\n",
            "26 -8\n",
            "w1=26, w2=-8일때 예측값은[-20  92  48 134 160]\n",
            "27 -8\n",
            "w1=27, w2=-8일때 예측값은[-18  98  52 141 168]\n",
            "28 -8\n",
            "w1=28, w2=-8일때 예측값은[-16 104  56 148 176]\n",
            "29 -8\n",
            "w1=29, w2=-8일때 예측값은[-14 110  60 155 184]\n",
            "30 -8\n",
            "w1=30, w2=-8일때 예측값은[-12 116  64 162 192]\n",
            "0 -7\n",
            "w1=0, w2=-7일때 예측값은[-63 -56 -49 -42 -42]\n",
            "1 -7\n",
            "w1=1, w2=-7일때 예측값은[-61 -50 -45 -35 -34]\n",
            "2 -7\n",
            "w1=2, w2=-7일때 예측값은[-59 -44 -41 -28 -26]\n",
            "3 -7\n",
            "w1=3, w2=-7일때 예측값은[-57 -38 -37 -21 -18]\n",
            "4 -7\n",
            "w1=4, w2=-7일때 예측값은[-55 -32 -33 -14 -10]\n",
            "5 -7\n",
            "w1=5, w2=-7일때 예측값은[-53 -26 -29  -7  -2]\n",
            "6 -7\n",
            "w1=6, w2=-7일때 예측값은[-51 -20 -25   0   6]\n",
            "7 -7\n",
            "w1=7, w2=-7일때 예측값은[-49 -14 -21   7  14]\n",
            "8 -7\n",
            "w1=8, w2=-7일때 예측값은[-47  -8 -17  14  22]\n",
            "9 -7\n",
            "w1=9, w2=-7일때 예측값은[-45  -2 -13  21  30]\n",
            "10 -7\n",
            "w1=10, w2=-7일때 예측값은[-43   4  -9  28  38]\n",
            "11 -7\n",
            "w1=11, w2=-7일때 예측값은[-41  10  -5  35  46]\n",
            "12 -7\n",
            "w1=12, w2=-7일때 예측값은[-39  16  -1  42  54]\n",
            "13 -7\n",
            "w1=13, w2=-7일때 예측값은[-37  22   3  49  62]\n",
            "14 -7\n",
            "w1=14, w2=-7일때 예측값은[-35  28   7  56  70]\n",
            "15 -7\n",
            "w1=15, w2=-7일때 예측값은[-33  34  11  63  78]\n",
            "16 -7\n",
            "w1=16, w2=-7일때 예측값은[-31  40  15  70  86]\n",
            "17 -7\n",
            "w1=17, w2=-7일때 예측값은[-29  46  19  77  94]\n",
            "18 -7\n",
            "w1=18, w2=-7일때 예측값은[-27  52  23  84 102]\n",
            "19 -7\n",
            "w1=19, w2=-7일때 예측값은[-25  58  27  91 110]\n",
            "20 -7\n",
            "w1=20, w2=-7일때 예측값은[-23  64  31  98 118]\n",
            "21 -7\n",
            "w1=21, w2=-7일때 예측값은[-21  70  35 105 126]\n",
            "22 -7\n",
            "w1=22, w2=-7일때 예측값은[-19  76  39 112 134]\n",
            "23 -7\n",
            "w1=23, w2=-7일때 예측값은[-17  82  43 119 142]\n",
            "24 -7\n",
            "w1=24, w2=-7일때 예측값은[-15  88  47 126 150]\n",
            "25 -7\n",
            "w1=25, w2=-7일때 예측값은[-13  94  51 133 158]\n",
            "26 -7\n",
            "w1=26, w2=-7일때 예측값은[-11 100  55 140 166]\n",
            "27 -7\n",
            "w1=27, w2=-7일때 예측값은[ -9 106  59 147 174]\n",
            "28 -7\n",
            "w1=28, w2=-7일때 예측값은[ -7 112  63 154 182]\n",
            "29 -7\n",
            "w1=29, w2=-7일때 예측값은[ -5 118  67 161 190]\n",
            "30 -7\n",
            "w1=30, w2=-7일때 예측값은[ -3 124  71 168 198]\n",
            "0 -6\n",
            "w1=0, w2=-6일때 예측값은[-54 -48 -42 -36 -36]\n",
            "1 -6\n",
            "w1=1, w2=-6일때 예측값은[-52 -42 -38 -29 -28]\n",
            "2 -6\n",
            "w1=2, w2=-6일때 예측값은[-50 -36 -34 -22 -20]\n",
            "3 -6\n",
            "w1=3, w2=-6일때 예측값은[-48 -30 -30 -15 -12]\n",
            "4 -6\n",
            "w1=4, w2=-6일때 예측값은[-46 -24 -26  -8  -4]\n",
            "5 -6\n",
            "w1=5, w2=-6일때 예측값은[-44 -18 -22  -1   4]\n",
            "6 -6\n",
            "w1=6, w2=-6일때 예측값은[-42 -12 -18   6  12]\n",
            "7 -6\n",
            "w1=7, w2=-6일때 예측값은[-40  -6 -14  13  20]\n",
            "8 -6\n",
            "w1=8, w2=-6일때 예측값은[-38   0 -10  20  28]\n",
            "9 -6\n",
            "w1=9, w2=-6일때 예측값은[-36   6  -6  27  36]\n",
            "10 -6\n",
            "w1=10, w2=-6일때 예측값은[-34  12  -2  34  44]\n",
            "11 -6\n",
            "w1=11, w2=-6일때 예측값은[-32  18   2  41  52]\n",
            "12 -6\n",
            "w1=12, w2=-6일때 예측값은[-30  24   6  48  60]\n",
            "13 -6\n",
            "w1=13, w2=-6일때 예측값은[-28  30  10  55  68]\n",
            "14 -6\n",
            "w1=14, w2=-6일때 예측값은[-26  36  14  62  76]\n",
            "15 -6\n",
            "w1=15, w2=-6일때 예측값은[-24  42  18  69  84]\n",
            "16 -6\n",
            "w1=16, w2=-6일때 예측값은[-22  48  22  76  92]\n",
            "17 -6\n",
            "w1=17, w2=-6일때 예측값은[-20  54  26  83 100]\n",
            "18 -6\n",
            "w1=18, w2=-6일때 예측값은[-18  60  30  90 108]\n",
            "19 -6\n",
            "w1=19, w2=-6일때 예측값은[-16  66  34  97 116]\n",
            "20 -6\n",
            "w1=20, w2=-6일때 예측값은[-14  72  38 104 124]\n",
            "21 -6\n",
            "w1=21, w2=-6일때 예측값은[-12  78  42 111 132]\n",
            "22 -6\n",
            "w1=22, w2=-6일때 예측값은[-10  84  46 118 140]\n",
            "23 -6\n",
            "w1=23, w2=-6일때 예측값은[ -8  90  50 125 148]\n",
            "24 -6\n",
            "w1=24, w2=-6일때 예측값은[ -6  96  54 132 156]\n",
            "25 -6\n",
            "w1=25, w2=-6일때 예측값은[ -4 102  58 139 164]\n",
            "26 -6\n",
            "w1=26, w2=-6일때 예측값은[ -2 108  62 146 172]\n",
            "27 -6\n",
            "w1=27, w2=-6일때 예측값은[  0 114  66 153 180]\n",
            "28 -6\n",
            "w1=28, w2=-6일때 예측값은[  2 120  70 160 188]\n",
            "29 -6\n",
            "w1=29, w2=-6일때 예측값은[  4 126  74 167 196]\n",
            "30 -6\n",
            "w1=30, w2=-6일때 예측값은[  6 132  78 174 204]\n",
            "0 -5\n",
            "w1=0, w2=-5일때 예측값은[-45 -40 -35 -30 -30]\n",
            "1 -5\n",
            "w1=1, w2=-5일때 예측값은[-43 -34 -31 -23 -22]\n",
            "2 -5\n",
            "w1=2, w2=-5일때 예측값은[-41 -28 -27 -16 -14]\n",
            "3 -5\n",
            "w1=3, w2=-5일때 예측값은[-39 -22 -23  -9  -6]\n",
            "4 -5\n",
            "w1=4, w2=-5일때 예측값은[-37 -16 -19  -2   2]\n",
            "5 -5\n",
            "w1=5, w2=-5일때 예측값은[-35 -10 -15   5  10]\n",
            "6 -5\n",
            "w1=6, w2=-5일때 예측값은[-33  -4 -11  12  18]\n",
            "7 -5\n",
            "w1=7, w2=-5일때 예측값은[-31   2  -7  19  26]\n",
            "8 -5\n",
            "w1=8, w2=-5일때 예측값은[-29   8  -3  26  34]\n",
            "9 -5\n",
            "w1=9, w2=-5일때 예측값은[-27  14   1  33  42]\n",
            "10 -5\n",
            "w1=10, w2=-5일때 예측값은[-25  20   5  40  50]\n",
            "11 -5\n",
            "w1=11, w2=-5일때 예측값은[-23  26   9  47  58]\n",
            "12 -5\n",
            "w1=12, w2=-5일때 예측값은[-21  32  13  54  66]\n",
            "13 -5\n",
            "w1=13, w2=-5일때 예측값은[-19  38  17  61  74]\n",
            "14 -5\n",
            "w1=14, w2=-5일때 예측값은[-17  44  21  68  82]\n",
            "15 -5\n",
            "w1=15, w2=-5일때 예측값은[-15  50  25  75  90]\n",
            "16 -5\n",
            "w1=16, w2=-5일때 예측값은[-13  56  29  82  98]\n",
            "17 -5\n",
            "w1=17, w2=-5일때 예측값은[-11  62  33  89 106]\n",
            "18 -5\n",
            "w1=18, w2=-5일때 예측값은[ -9  68  37  96 114]\n",
            "19 -5\n",
            "w1=19, w2=-5일때 예측값은[ -7  74  41 103 122]\n",
            "20 -5\n",
            "w1=20, w2=-5일때 예측값은[ -5  80  45 110 130]\n",
            "21 -5\n",
            "w1=21, w2=-5일때 예측값은[ -3  86  49 117 138]\n",
            "22 -5\n",
            "w1=22, w2=-5일때 예측값은[ -1  92  53 124 146]\n",
            "23 -5\n",
            "w1=23, w2=-5일때 예측값은[  1  98  57 131 154]\n",
            "24 -5\n",
            "w1=24, w2=-5일때 예측값은[  3 104  61 138 162]\n",
            "25 -5\n",
            "w1=25, w2=-5일때 예측값은[  5 110  65 145 170]\n",
            "26 -5\n",
            "w1=26, w2=-5일때 예측값은[  7 116  69 152 178]\n",
            "27 -5\n",
            "w1=27, w2=-5일때 예측값은[  9 122  73 159 186]\n",
            "28 -5\n",
            "w1=28, w2=-5일때 예측값은[ 11 128  77 166 194]\n",
            "29 -5\n",
            "w1=29, w2=-5일때 예측값은[ 13 134  81 173 202]\n",
            "30 -5\n",
            "w1=30, w2=-5일때 예측값은[ 15 140  85 180 210]\n",
            "0 -4\n",
            "w1=0, w2=-4일때 예측값은[-36 -32 -28 -24 -24]\n",
            "1 -4\n",
            "w1=1, w2=-4일때 예측값은[-34 -26 -24 -17 -16]\n",
            "2 -4\n",
            "w1=2, w2=-4일때 예측값은[-32 -20 -20 -10  -8]\n",
            "3 -4\n",
            "w1=3, w2=-4일때 예측값은[-30 -14 -16  -3   0]\n",
            "4 -4\n",
            "w1=4, w2=-4일때 예측값은[-28  -8 -12   4   8]\n",
            "5 -4\n",
            "w1=5, w2=-4일때 예측값은[-26  -2  -8  11  16]\n",
            "6 -4\n",
            "w1=6, w2=-4일때 예측값은[-24   4  -4  18  24]\n",
            "7 -4\n",
            "w1=7, w2=-4일때 예측값은[-22  10   0  25  32]\n",
            "8 -4\n",
            "w1=8, w2=-4일때 예측값은[-20  16   4  32  40]\n",
            "9 -4\n",
            "w1=9, w2=-4일때 예측값은[-18  22   8  39  48]\n",
            "10 -4\n",
            "w1=10, w2=-4일때 예측값은[-16  28  12  46  56]\n",
            "11 -4\n",
            "w1=11, w2=-4일때 예측값은[-14  34  16  53  64]\n",
            "12 -4\n",
            "w1=12, w2=-4일때 예측값은[-12  40  20  60  72]\n",
            "13 -4\n",
            "w1=13, w2=-4일때 예측값은[-10  46  24  67  80]\n",
            "14 -4\n",
            "w1=14, w2=-4일때 예측값은[-8 52 28 74 88]\n",
            "15 -4\n",
            "w1=15, w2=-4일때 예측값은[-6 58 32 81 96]\n",
            "16 -4\n",
            "w1=16, w2=-4일때 예측값은[ -4  64  36  88 104]\n",
            "17 -4\n",
            "w1=17, w2=-4일때 예측값은[ -2  70  40  95 112]\n",
            "18 -4\n",
            "w1=18, w2=-4일때 예측값은[  0  76  44 102 120]\n",
            "19 -4\n",
            "w1=19, w2=-4일때 예측값은[  2  82  48 109 128]\n",
            "20 -4\n",
            "w1=20, w2=-4일때 예측값은[  4  88  52 116 136]\n",
            "21 -4\n",
            "w1=21, w2=-4일때 예측값은[  6  94  56 123 144]\n",
            "22 -4\n",
            "w1=22, w2=-4일때 예측값은[  8 100  60 130 152]\n",
            "23 -4\n",
            "w1=23, w2=-4일때 예측값은[ 10 106  64 137 160]\n",
            "24 -4\n",
            "w1=24, w2=-4일때 예측값은[ 12 112  68 144 168]\n",
            "25 -4\n",
            "w1=25, w2=-4일때 예측값은[ 14 118  72 151 176]\n",
            "26 -4\n",
            "w1=26, w2=-4일때 예측값은[ 16 124  76 158 184]\n",
            "27 -4\n",
            "w1=27, w2=-4일때 예측값은[ 18 130  80 165 192]\n",
            "28 -4\n",
            "w1=28, w2=-4일때 예측값은[ 20 136  84 172 200]\n",
            "29 -4\n",
            "w1=29, w2=-4일때 예측값은[ 22 142  88 179 208]\n",
            "30 -4\n",
            "w1=30, w2=-4일때 예측값은[ 24 148  92 186 216]\n",
            "0 -3\n",
            "w1=0, w2=-3일때 예측값은[-27 -24 -21 -18 -18]\n",
            "1 -3\n",
            "w1=1, w2=-3일때 예측값은[-25 -18 -17 -11 -10]\n",
            "2 -3\n",
            "w1=2, w2=-3일때 예측값은[-23 -12 -13  -4  -2]\n",
            "3 -3\n",
            "w1=3, w2=-3일때 예측값은[-21  -6  -9   3   6]\n",
            "4 -3\n",
            "w1=4, w2=-3일때 예측값은[-19   0  -5  10  14]\n",
            "5 -3\n",
            "w1=5, w2=-3일때 예측값은[-17   6  -1  17  22]\n",
            "6 -3\n",
            "w1=6, w2=-3일때 예측값은[-15  12   3  24  30]\n",
            "7 -3\n",
            "w1=7, w2=-3일때 예측값은[-13  18   7  31  38]\n",
            "8 -3\n",
            "w1=8, w2=-3일때 예측값은[-11  24  11  38  46]\n",
            "9 -3\n",
            "w1=9, w2=-3일때 예측값은[-9 30 15 45 54]\n",
            "10 -3\n",
            "w1=10, w2=-3일때 예측값은[-7 36 19 52 62]\n",
            "11 -3\n",
            "w1=11, w2=-3일때 예측값은[-5 42 23 59 70]\n",
            "12 -3\n",
            "w1=12, w2=-3일때 예측값은[-3 48 27 66 78]\n",
            "13 -3\n",
            "w1=13, w2=-3일때 예측값은[-1 54 31 73 86]\n",
            "14 -3\n",
            "w1=14, w2=-3일때 예측값은[ 1 60 35 80 94]\n",
            "15 -3\n",
            "w1=15, w2=-3일때 예측값은[  3  66  39  87 102]\n",
            "16 -3\n",
            "w1=16, w2=-3일때 예측값은[  5  72  43  94 110]\n",
            "17 -3\n",
            "w1=17, w2=-3일때 예측값은[  7  78  47 101 118]\n",
            "18 -3\n",
            "w1=18, w2=-3일때 예측값은[  9  84  51 108 126]\n",
            "19 -3\n",
            "w1=19, w2=-3일때 예측값은[ 11  90  55 115 134]\n",
            "20 -3\n",
            "w1=20, w2=-3일때 예측값은[ 13  96  59 122 142]\n",
            "21 -3\n",
            "w1=21, w2=-3일때 예측값은[ 15 102  63 129 150]\n",
            "22 -3\n",
            "w1=22, w2=-3일때 예측값은[ 17 108  67 136 158]\n",
            "23 -3\n",
            "w1=23, w2=-3일때 예측값은[ 19 114  71 143 166]\n",
            "24 -3\n",
            "w1=24, w2=-3일때 예측값은[ 21 120  75 150 174]\n",
            "25 -3\n",
            "w1=25, w2=-3일때 예측값은[ 23 126  79 157 182]\n",
            "26 -3\n",
            "w1=26, w2=-3일때 예측값은[ 25 132  83 164 190]\n",
            "27 -3\n",
            "w1=27, w2=-3일때 예측값은[ 27 138  87 171 198]\n",
            "28 -3\n",
            "w1=28, w2=-3일때 예측값은[ 29 144  91 178 206]\n",
            "29 -3\n",
            "w1=29, w2=-3일때 예측값은[ 31 150  95 185 214]\n",
            "30 -3\n",
            "w1=30, w2=-3일때 예측값은[ 33 156  99 192 222]\n",
            "0 -2\n",
            "w1=0, w2=-2일때 예측값은[-18 -16 -14 -12 -12]\n",
            "1 -2\n",
            "w1=1, w2=-2일때 예측값은[-16 -10 -10  -5  -4]\n",
            "2 -2\n",
            "w1=2, w2=-2일때 예측값은[-14  -4  -6   2   4]\n",
            "3 -2\n",
            "w1=3, w2=-2일때 예측값은[-12   2  -2   9  12]\n",
            "4 -2\n",
            "w1=4, w2=-2일때 예측값은[-10   8   2  16  20]\n",
            "5 -2\n",
            "w1=5, w2=-2일때 예측값은[-8 14  6 23 28]\n",
            "6 -2\n",
            "w1=6, w2=-2일때 예측값은[-6 20 10 30 36]\n",
            "7 -2\n",
            "w1=7, w2=-2일때 예측값은[-4 26 14 37 44]\n",
            "8 -2\n",
            "w1=8, w2=-2일때 예측값은[-2 32 18 44 52]\n",
            "9 -2\n",
            "w1=9, w2=-2일때 예측값은[ 0 38 22 51 60]\n",
            "10 -2\n",
            "w1=10, w2=-2일때 예측값은[ 2 44 26 58 68]\n",
            "11 -2\n",
            "w1=11, w2=-2일때 예측값은[ 4 50 30 65 76]\n",
            "12 -2\n",
            "w1=12, w2=-2일때 예측값은[ 6 56 34 72 84]\n",
            "13 -2\n",
            "w1=13, w2=-2일때 예측값은[ 8 62 38 79 92]\n",
            "14 -2\n",
            "w1=14, w2=-2일때 예측값은[ 10  68  42  86 100]\n",
            "15 -2\n",
            "w1=15, w2=-2일때 예측값은[ 12  74  46  93 108]\n",
            "16 -2\n",
            "w1=16, w2=-2일때 예측값은[ 14  80  50 100 116]\n",
            "17 -2\n",
            "w1=17, w2=-2일때 예측값은[ 16  86  54 107 124]\n",
            "18 -2\n",
            "w1=18, w2=-2일때 예측값은[ 18  92  58 114 132]\n",
            "19 -2\n",
            "w1=19, w2=-2일때 예측값은[ 20  98  62 121 140]\n",
            "20 -2\n",
            "w1=20, w2=-2일때 예측값은[ 22 104  66 128 148]\n",
            "21 -2\n",
            "w1=21, w2=-2일때 예측값은[ 24 110  70 135 156]\n",
            "22 -2\n",
            "w1=22, w2=-2일때 예측값은[ 26 116  74 142 164]\n",
            "23 -2\n",
            "w1=23, w2=-2일때 예측값은[ 28 122  78 149 172]\n",
            "24 -2\n",
            "w1=24, w2=-2일때 예측값은[ 30 128  82 156 180]\n",
            "25 -2\n",
            "w1=25, w2=-2일때 예측값은[ 32 134  86 163 188]\n",
            "26 -2\n",
            "w1=26, w2=-2일때 예측값은[ 34 140  90 170 196]\n",
            "27 -2\n",
            "w1=27, w2=-2일때 예측값은[ 36 146  94 177 204]\n",
            "28 -2\n",
            "w1=28, w2=-2일때 예측값은[ 38 152  98 184 212]\n",
            "29 -2\n",
            "w1=29, w2=-2일때 예측값은[ 40 158 102 191 220]\n",
            "30 -2\n",
            "w1=30, w2=-2일때 예측값은[ 42 164 106 198 228]\n",
            "0 -1\n",
            "w1=0, w2=-1일때 예측값은[-9 -8 -7 -6 -6]\n",
            "1 -1\n",
            "w1=1, w2=-1일때 예측값은[-7 -2 -3  1  2]\n",
            "2 -1\n",
            "w1=2, w2=-1일때 예측값은[-5  4  1  8 10]\n",
            "3 -1\n",
            "w1=3, w2=-1일때 예측값은[-3 10  5 15 18]\n",
            "4 -1\n",
            "w1=4, w2=-1일때 예측값은[-1 16  9 22 26]\n",
            "5 -1\n",
            "w1=5, w2=-1일때 예측값은[ 1 22 13 29 34]\n",
            "6 -1\n",
            "w1=6, w2=-1일때 예측값은[ 3 28 17 36 42]\n",
            "7 -1\n",
            "w1=7, w2=-1일때 예측값은[ 5 34 21 43 50]\n",
            "8 -1\n",
            "w1=8, w2=-1일때 예측값은[ 7 40 25 50 58]\n",
            "9 -1\n",
            "w1=9, w2=-1일때 예측값은[ 9 46 29 57 66]\n",
            "10 -1\n",
            "w1=10, w2=-1일때 예측값은[11 52 33 64 74]\n",
            "11 -1\n",
            "w1=11, w2=-1일때 예측값은[13 58 37 71 82]\n",
            "12 -1\n",
            "w1=12, w2=-1일때 예측값은[15 64 41 78 90]\n",
            "13 -1\n",
            "w1=13, w2=-1일때 예측값은[17 70 45 85 98]\n",
            "14 -1\n",
            "w1=14, w2=-1일때 예측값은[ 19  76  49  92 106]\n",
            "15 -1\n",
            "w1=15, w2=-1일때 예측값은[ 21  82  53  99 114]\n",
            "16 -1\n",
            "w1=16, w2=-1일때 예측값은[ 23  88  57 106 122]\n",
            "17 -1\n",
            "w1=17, w2=-1일때 예측값은[ 25  94  61 113 130]\n",
            "18 -1\n",
            "w1=18, w2=-1일때 예측값은[ 27 100  65 120 138]\n",
            "19 -1\n",
            "w1=19, w2=-1일때 예측값은[ 29 106  69 127 146]\n",
            "20 -1\n",
            "w1=20, w2=-1일때 예측값은[ 31 112  73 134 154]\n",
            "21 -1\n",
            "w1=21, w2=-1일때 예측값은[ 33 118  77 141 162]\n",
            "22 -1\n",
            "w1=22, w2=-1일때 예측값은[ 35 124  81 148 170]\n",
            "23 -1\n",
            "w1=23, w2=-1일때 예측값은[ 37 130  85 155 178]\n",
            "24 -1\n",
            "w1=24, w2=-1일때 예측값은[ 39 136  89 162 186]\n",
            "25 -1\n",
            "w1=25, w2=-1일때 예측값은[ 41 142  93 169 194]\n",
            "26 -1\n",
            "w1=26, w2=-1일때 예측값은[ 43 148  97 176 202]\n",
            "27 -1\n",
            "w1=27, w2=-1일때 예측값은[ 45 154 101 183 210]\n",
            "28 -1\n",
            "w1=28, w2=-1일때 예측값은[ 47 160 105 190 218]\n",
            "29 -1\n",
            "w1=29, w2=-1일때 예측값은[ 49 166 109 197 226]\n",
            "30 -1\n",
            "w1=30, w2=-1일때 예측값은[ 51 172 113 204 234]\n",
            "0 0\n",
            "w1=0, w2=0일때 예측값은[0 0 0 0 0]\n",
            "1 0\n",
            "w1=1, w2=0일때 예측값은[2 6 4 7 8]\n",
            "2 0\n",
            "w1=2, w2=0일때 예측값은[ 4 12  8 14 16]\n",
            "3 0\n",
            "w1=3, w2=0일때 예측값은[ 6 18 12 21 24]\n",
            "4 0\n",
            "w1=4, w2=0일때 예측값은[ 8 24 16 28 32]\n",
            "5 0\n",
            "w1=5, w2=0일때 예측값은[10 30 20 35 40]\n",
            "6 0\n",
            "w1=6, w2=0일때 예측값은[12 36 24 42 48]\n",
            "7 0\n",
            "w1=7, w2=0일때 예측값은[14 42 28 49 56]\n",
            "8 0\n",
            "w1=8, w2=0일때 예측값은[16 48 32 56 64]\n",
            "9 0\n",
            "w1=9, w2=0일때 예측값은[18 54 36 63 72]\n",
            "10 0\n",
            "w1=10, w2=0일때 예측값은[20 60 40 70 80]\n",
            "11 0\n",
            "w1=11, w2=0일때 예측값은[22 66 44 77 88]\n",
            "12 0\n",
            "w1=12, w2=0일때 예측값은[24 72 48 84 96]\n",
            "13 0\n",
            "w1=13, w2=0일때 예측값은[ 26  78  52  91 104]\n",
            "14 0\n",
            "w1=14, w2=0일때 예측값은[ 28  84  56  98 112]\n",
            "15 0\n",
            "w1=15, w2=0일때 예측값은[ 30  90  60 105 120]\n",
            "16 0\n",
            "w1=16, w2=0일때 예측값은[ 32  96  64 112 128]\n",
            "17 0\n",
            "w1=17, w2=0일때 예측값은[ 34 102  68 119 136]\n",
            "18 0\n",
            "w1=18, w2=0일때 예측값은[ 36 108  72 126 144]\n",
            "19 0\n",
            "w1=19, w2=0일때 예측값은[ 38 114  76 133 152]\n",
            "20 0\n",
            "w1=20, w2=0일때 예측값은[ 40 120  80 140 160]\n",
            "21 0\n",
            "w1=21, w2=0일때 예측값은[ 42 126  84 147 168]\n",
            "22 0\n",
            "w1=22, w2=0일때 예측값은[ 44 132  88 154 176]\n",
            "23 0\n",
            "w1=23, w2=0일때 예측값은[ 46 138  92 161 184]\n",
            "24 0\n",
            "w1=24, w2=0일때 예측값은[ 48 144  96 168 192]\n",
            "25 0\n",
            "w1=25, w2=0일때 예측값은[ 50 150 100 175 200]\n",
            "26 0\n",
            "w1=26, w2=0일때 예측값은[ 52 156 104 182 208]\n",
            "27 0\n",
            "w1=27, w2=0일때 예측값은[ 54 162 108 189 216]\n",
            "28 0\n",
            "w1=28, w2=0일때 예측값은[ 56 168 112 196 224]\n",
            "29 0\n",
            "w1=29, w2=0일때 예측값은[ 58 174 116 203 232]\n",
            "30 0\n",
            "w1=30, w2=0일때 예측값은[ 60 180 120 210 240]\n",
            "0 1\n",
            "w1=0, w2=1일때 예측값은[9 8 7 6 6]\n",
            "1 1\n",
            "w1=1, w2=1일때 예측값은[11 14 11 13 14]\n",
            "2 1\n",
            "w1=2, w2=1일때 예측값은[13 20 15 20 22]\n",
            "3 1\n",
            "w1=3, w2=1일때 예측값은[15 26 19 27 30]\n",
            "4 1\n",
            "w1=4, w2=1일때 예측값은[17 32 23 34 38]\n",
            "5 1\n",
            "w1=5, w2=1일때 예측값은[19 38 27 41 46]\n",
            "6 1\n",
            "w1=6, w2=1일때 예측값은[21 44 31 48 54]\n",
            "7 1\n",
            "w1=7, w2=1일때 예측값은[23 50 35 55 62]\n",
            "8 1\n",
            "w1=8, w2=1일때 예측값은[25 56 39 62 70]\n",
            "9 1\n",
            "w1=9, w2=1일때 예측값은[27 62 43 69 78]\n",
            "10 1\n",
            "w1=10, w2=1일때 예측값은[29 68 47 76 86]\n",
            "11 1\n",
            "w1=11, w2=1일때 예측값은[31 74 51 83 94]\n",
            "12 1\n",
            "w1=12, w2=1일때 예측값은[ 33  80  55  90 102]\n",
            "13 1\n",
            "w1=13, w2=1일때 예측값은[ 35  86  59  97 110]\n",
            "14 1\n",
            "w1=14, w2=1일때 예측값은[ 37  92  63 104 118]\n",
            "15 1\n",
            "w1=15, w2=1일때 예측값은[ 39  98  67 111 126]\n",
            "16 1\n",
            "w1=16, w2=1일때 예측값은[ 41 104  71 118 134]\n",
            "17 1\n",
            "w1=17, w2=1일때 예측값은[ 43 110  75 125 142]\n",
            "18 1\n",
            "w1=18, w2=1일때 예측값은[ 45 116  79 132 150]\n",
            "19 1\n",
            "w1=19, w2=1일때 예측값은[ 47 122  83 139 158]\n",
            "20 1\n",
            "w1=20, w2=1일때 예측값은[ 49 128  87 146 166]\n",
            "21 1\n",
            "w1=21, w2=1일때 예측값은[ 51 134  91 153 174]\n",
            "22 1\n",
            "w1=22, w2=1일때 예측값은[ 53 140  95 160 182]\n",
            "23 1\n",
            "w1=23, w2=1일때 예측값은[ 55 146  99 167 190]\n",
            "24 1\n",
            "w1=24, w2=1일때 예측값은[ 57 152 103 174 198]\n",
            "25 1\n",
            "w1=25, w2=1일때 예측값은[ 59 158 107 181 206]\n",
            "26 1\n",
            "w1=26, w2=1일때 예측값은[ 61 164 111 188 214]\n",
            "27 1\n",
            "w1=27, w2=1일때 예측값은[ 63 170 115 195 222]\n",
            "28 1\n",
            "w1=28, w2=1일때 예측값은[ 65 176 119 202 230]\n",
            "29 1\n",
            "w1=29, w2=1일때 예측값은[ 67 182 123 209 238]\n",
            "30 1\n",
            "w1=30, w2=1일때 예측값은[ 69 188 127 216 246]\n",
            "0 2\n",
            "w1=0, w2=2일때 예측값은[18 16 14 12 12]\n",
            "1 2\n",
            "w1=1, w2=2일때 예측값은[20 22 18 19 20]\n",
            "2 2\n",
            "w1=2, w2=2일때 예측값은[22 28 22 26 28]\n",
            "3 2\n",
            "w1=3, w2=2일때 예측값은[24 34 26 33 36]\n",
            "4 2\n",
            "w1=4, w2=2일때 예측값은[26 40 30 40 44]\n",
            "5 2\n",
            "w1=5, w2=2일때 예측값은[28 46 34 47 52]\n",
            "6 2\n",
            "w1=6, w2=2일때 예측값은[30 52 38 54 60]\n",
            "7 2\n",
            "w1=7, w2=2일때 예측값은[32 58 42 61 68]\n",
            "8 2\n",
            "w1=8, w2=2일때 예측값은[34 64 46 68 76]\n",
            "9 2\n",
            "w1=9, w2=2일때 예측값은[36 70 50 75 84]\n",
            "10 2\n",
            "w1=10, w2=2일때 예측값은[38 76 54 82 92]\n",
            "11 2\n",
            "w1=11, w2=2일때 예측값은[ 40  82  58  89 100]\n",
            "12 2\n",
            "w1=12, w2=2일때 예측값은[ 42  88  62  96 108]\n",
            "13 2\n",
            "w1=13, w2=2일때 예측값은[ 44  94  66 103 116]\n",
            "14 2\n",
            "w1=14, w2=2일때 예측값은[ 46 100  70 110 124]\n",
            "15 2\n",
            "w1=15, w2=2일때 예측값은[ 48 106  74 117 132]\n",
            "16 2\n",
            "w1=16, w2=2일때 예측값은[ 50 112  78 124 140]\n",
            "17 2\n",
            "w1=17, w2=2일때 예측값은[ 52 118  82 131 148]\n",
            "18 2\n",
            "w1=18, w2=2일때 예측값은[ 54 124  86 138 156]\n",
            "19 2\n",
            "w1=19, w2=2일때 예측값은[ 56 130  90 145 164]\n",
            "20 2\n",
            "w1=20, w2=2일때 예측값은[ 58 136  94 152 172]\n",
            "21 2\n",
            "w1=21, w2=2일때 예측값은[ 60 142  98 159 180]\n",
            "22 2\n",
            "w1=22, w2=2일때 예측값은[ 62 148 102 166 188]\n",
            "23 2\n",
            "w1=23, w2=2일때 예측값은[ 64 154 106 173 196]\n",
            "24 2\n",
            "w1=24, w2=2일때 예측값은[ 66 160 110 180 204]\n",
            "25 2\n",
            "w1=25, w2=2일때 예측값은[ 68 166 114 187 212]\n",
            "26 2\n",
            "w1=26, w2=2일때 예측값은[ 70 172 118 194 220]\n",
            "27 2\n",
            "w1=27, w2=2일때 예측값은[ 72 178 122 201 228]\n",
            "28 2\n",
            "w1=28, w2=2일때 예측값은[ 74 184 126 208 236]\n",
            "29 2\n",
            "w1=29, w2=2일때 예측값은[ 76 190 130 215 244]\n",
            "30 2\n",
            "w1=30, w2=2일때 예측값은[ 78 196 134 222 252]\n",
            "0 3\n",
            "w1=0, w2=3일때 예측값은[27 24 21 18 18]\n",
            "1 3\n",
            "w1=1, w2=3일때 예측값은[29 30 25 25 26]\n",
            "2 3\n",
            "w1=2, w2=3일때 예측값은[31 36 29 32 34]\n",
            "3 3\n",
            "w1=3, w2=3일때 예측값은[33 42 33 39 42]\n",
            "4 3\n",
            "w1=4, w2=3일때 예측값은[35 48 37 46 50]\n",
            "5 3\n",
            "w1=5, w2=3일때 예측값은[37 54 41 53 58]\n",
            "6 3\n",
            "w1=6, w2=3일때 예측값은[39 60 45 60 66]\n",
            "7 3\n",
            "w1=7, w2=3일때 예측값은[41 66 49 67 74]\n",
            "8 3\n",
            "w1=8, w2=3일때 예측값은[43 72 53 74 82]\n",
            "9 3\n",
            "w1=9, w2=3일때 예측값은[45 78 57 81 90]\n",
            "10 3\n",
            "w1=10, w2=3일때 예측값은[47 84 61 88 98]\n",
            "11 3\n",
            "w1=11, w2=3일때 예측값은[ 49  90  65  95 106]\n",
            "12 3\n",
            "w1=12, w2=3일때 예측값은[ 51  96  69 102 114]\n",
            "13 3\n",
            "w1=13, w2=3일때 예측값은[ 53 102  73 109 122]\n",
            "14 3\n",
            "w1=14, w2=3일때 예측값은[ 55 108  77 116 130]\n",
            "15 3\n",
            "w1=15, w2=3일때 예측값은[ 57 114  81 123 138]\n",
            "16 3\n",
            "w1=16, w2=3일때 예측값은[ 59 120  85 130 146]\n",
            "17 3\n",
            "w1=17, w2=3일때 예측값은[ 61 126  89 137 154]\n",
            "18 3\n",
            "w1=18, w2=3일때 예측값은[ 63 132  93 144 162]\n",
            "19 3\n",
            "w1=19, w2=3일때 예측값은[ 65 138  97 151 170]\n",
            "20 3\n",
            "w1=20, w2=3일때 예측값은[ 67 144 101 158 178]\n",
            "21 3\n",
            "w1=21, w2=3일때 예측값은[ 69 150 105 165 186]\n",
            "22 3\n",
            "w1=22, w2=3일때 예측값은[ 71 156 109 172 194]\n",
            "23 3\n",
            "w1=23, w2=3일때 예측값은[ 73 162 113 179 202]\n",
            "24 3\n",
            "w1=24, w2=3일때 예측값은[ 75 168 117 186 210]\n",
            "25 3\n",
            "w1=25, w2=3일때 예측값은[ 77 174 121 193 218]\n",
            "26 3\n",
            "w1=26, w2=3일때 예측값은[ 79 180 125 200 226]\n",
            "27 3\n",
            "w1=27, w2=3일때 예측값은[ 81 186 129 207 234]\n",
            "28 3\n",
            "w1=28, w2=3일때 예측값은[ 83 192 133 214 242]\n",
            "29 3\n",
            "w1=29, w2=3일때 예측값은[ 85 198 137 221 250]\n",
            "30 3\n",
            "w1=30, w2=3일때 예측값은[ 87 204 141 228 258]\n",
            "0 4\n",
            "w1=0, w2=4일때 예측값은[36 32 28 24 24]\n",
            "1 4\n",
            "w1=1, w2=4일때 예측값은[38 38 32 31 32]\n",
            "2 4\n",
            "w1=2, w2=4일때 예측값은[40 44 36 38 40]\n",
            "3 4\n",
            "w1=3, w2=4일때 예측값은[42 50 40 45 48]\n",
            "4 4\n",
            "w1=4, w2=4일때 예측값은[44 56 44 52 56]\n",
            "5 4\n",
            "w1=5, w2=4일때 예측값은[46 62 48 59 64]\n",
            "6 4\n",
            "w1=6, w2=4일때 예측값은[48 68 52 66 72]\n",
            "7 4\n",
            "w1=7, w2=4일때 예측값은[50 74 56 73 80]\n",
            "8 4\n",
            "w1=8, w2=4일때 예측값은[52 80 60 80 88]\n",
            "9 4\n",
            "w1=9, w2=4일때 예측값은[54 86 64 87 96]\n",
            "10 4\n",
            "w1=10, w2=4일때 예측값은[ 56  92  68  94 104]\n",
            "11 4\n",
            "w1=11, w2=4일때 예측값은[ 58  98  72 101 112]\n",
            "12 4\n",
            "w1=12, w2=4일때 예측값은[ 60 104  76 108 120]\n",
            "13 4\n",
            "w1=13, w2=4일때 예측값은[ 62 110  80 115 128]\n",
            "14 4\n",
            "w1=14, w2=4일때 예측값은[ 64 116  84 122 136]\n",
            "15 4\n",
            "w1=15, w2=4일때 예측값은[ 66 122  88 129 144]\n",
            "16 4\n",
            "w1=16, w2=4일때 예측값은[ 68 128  92 136 152]\n",
            "17 4\n",
            "w1=17, w2=4일때 예측값은[ 70 134  96 143 160]\n",
            "18 4\n",
            "w1=18, w2=4일때 예측값은[ 72 140 100 150 168]\n",
            "19 4\n",
            "w1=19, w2=4일때 예측값은[ 74 146 104 157 176]\n",
            "20 4\n",
            "w1=20, w2=4일때 예측값은[ 76 152 108 164 184]\n",
            "21 4\n",
            "w1=21, w2=4일때 예측값은[ 78 158 112 171 192]\n",
            "22 4\n",
            "w1=22, w2=4일때 예측값은[ 80 164 116 178 200]\n",
            "23 4\n",
            "w1=23, w2=4일때 예측값은[ 82 170 120 185 208]\n",
            "24 4\n",
            "w1=24, w2=4일때 예측값은[ 84 176 124 192 216]\n",
            "25 4\n",
            "w1=25, w2=4일때 예측값은[ 86 182 128 199 224]\n",
            "26 4\n",
            "w1=26, w2=4일때 예측값은[ 88 188 132 206 232]\n",
            "27 4\n",
            "w1=27, w2=4일때 예측값은[ 90 194 136 213 240]\n",
            "28 4\n",
            "w1=28, w2=4일때 예측값은[ 92 200 140 220 248]\n",
            "29 4\n",
            "w1=29, w2=4일때 예측값은[ 94 206 144 227 256]\n",
            "30 4\n",
            "w1=30, w2=4일때 예측값은[ 96 212 148 234 264]\n",
            "0 5\n",
            "w1=0, w2=5일때 예측값은[45 40 35 30 30]\n",
            "1 5\n",
            "w1=1, w2=5일때 예측값은[47 46 39 37 38]\n",
            "2 5\n",
            "w1=2, w2=5일때 예측값은[49 52 43 44 46]\n",
            "3 5\n",
            "w1=3, w2=5일때 예측값은[51 58 47 51 54]\n",
            "4 5\n",
            "w1=4, w2=5일때 예측값은[53 64 51 58 62]\n",
            "5 5\n",
            "w1=5, w2=5일때 예측값은[55 70 55 65 70]\n",
            "6 5\n",
            "w1=6, w2=5일때 예측값은[57 76 59 72 78]\n",
            "7 5\n",
            "w1=7, w2=5일때 예측값은[59 82 63 79 86]\n",
            "8 5\n",
            "w1=8, w2=5일때 예측값은[61 88 67 86 94]\n",
            "9 5\n",
            "w1=9, w2=5일때 예측값은[ 63  94  71  93 102]\n",
            "10 5\n",
            "w1=10, w2=5일때 예측값은[ 65 100  75 100 110]\n",
            "11 5\n",
            "w1=11, w2=5일때 예측값은[ 67 106  79 107 118]\n",
            "12 5\n",
            "w1=12, w2=5일때 예측값은[ 69 112  83 114 126]\n",
            "13 5\n",
            "w1=13, w2=5일때 예측값은[ 71 118  87 121 134]\n",
            "14 5\n",
            "w1=14, w2=5일때 예측값은[ 73 124  91 128 142]\n",
            "15 5\n",
            "w1=15, w2=5일때 예측값은[ 75 130  95 135 150]\n",
            "16 5\n",
            "w1=16, w2=5일때 예측값은[ 77 136  99 142 158]\n",
            "17 5\n",
            "w1=17, w2=5일때 예측값은[ 79 142 103 149 166]\n",
            "18 5\n",
            "w1=18, w2=5일때 예측값은[ 81 148 107 156 174]\n",
            "19 5\n",
            "w1=19, w2=5일때 예측값은[ 83 154 111 163 182]\n",
            "20 5\n",
            "w1=20, w2=5일때 예측값은[ 85 160 115 170 190]\n",
            "21 5\n",
            "w1=21, w2=5일때 예측값은[ 87 166 119 177 198]\n",
            "22 5\n",
            "w1=22, w2=5일때 예측값은[ 89 172 123 184 206]\n",
            "23 5\n",
            "w1=23, w2=5일때 예측값은[ 91 178 127 191 214]\n",
            "24 5\n",
            "w1=24, w2=5일때 예측값은[ 93 184 131 198 222]\n",
            "25 5\n",
            "w1=25, w2=5일때 예측값은[ 95 190 135 205 230]\n",
            "26 5\n",
            "w1=26, w2=5일때 예측값은[ 97 196 139 212 238]\n",
            "27 5\n",
            "w1=27, w2=5일때 예측값은[ 99 202 143 219 246]\n",
            "28 5\n",
            "w1=28, w2=5일때 예측값은[101 208 147 226 254]\n",
            "29 5\n",
            "w1=29, w2=5일때 예측값은[103 214 151 233 262]\n",
            "30 5\n",
            "w1=30, w2=5일때 예측값은[105 220 155 240 270]\n",
            "0 6\n",
            "w1=0, w2=6일때 예측값은[54 48 42 36 36]\n",
            "1 6\n",
            "w1=1, w2=6일때 예측값은[56 54 46 43 44]\n",
            "2 6\n",
            "w1=2, w2=6일때 예측값은[58 60 50 50 52]\n",
            "3 6\n",
            "w1=3, w2=6일때 예측값은[60 66 54 57 60]\n",
            "4 6\n",
            "w1=4, w2=6일때 예측값은[62 72 58 64 68]\n",
            "5 6\n",
            "w1=5, w2=6일때 예측값은[64 78 62 71 76]\n",
            "6 6\n",
            "w1=6, w2=6일때 예측값은[66 84 66 78 84]\n",
            "7 6\n",
            "w1=7, w2=6일때 예측값은[68 90 70 85 92]\n",
            "8 6\n",
            "w1=8, w2=6일때 예측값은[ 70  96  74  92 100]\n",
            "9 6\n",
            "w1=9, w2=6일때 예측값은[ 72 102  78  99 108]\n",
            "10 6\n",
            "w1=10, w2=6일때 예측값은[ 74 108  82 106 116]\n",
            "11 6\n",
            "w1=11, w2=6일때 예측값은[ 76 114  86 113 124]\n",
            "12 6\n",
            "w1=12, w2=6일때 예측값은[ 78 120  90 120 132]\n",
            "13 6\n",
            "w1=13, w2=6일때 예측값은[ 80 126  94 127 140]\n",
            "14 6\n",
            "w1=14, w2=6일때 예측값은[ 82 132  98 134 148]\n",
            "15 6\n",
            "w1=15, w2=6일때 예측값은[ 84 138 102 141 156]\n",
            "16 6\n",
            "w1=16, w2=6일때 예측값은[ 86 144 106 148 164]\n",
            "17 6\n",
            "w1=17, w2=6일때 예측값은[ 88 150 110 155 172]\n",
            "18 6\n",
            "w1=18, w2=6일때 예측값은[ 90 156 114 162 180]\n",
            "19 6\n",
            "w1=19, w2=6일때 예측값은[ 92 162 118 169 188]\n",
            "20 6\n",
            "w1=20, w2=6일때 예측값은[ 94 168 122 176 196]\n",
            "21 6\n",
            "w1=21, w2=6일때 예측값은[ 96 174 126 183 204]\n",
            "22 6\n",
            "w1=22, w2=6일때 예측값은[ 98 180 130 190 212]\n",
            "23 6\n",
            "w1=23, w2=6일때 예측값은[100 186 134 197 220]\n",
            "24 6\n",
            "w1=24, w2=6일때 예측값은[102 192 138 204 228]\n",
            "25 6\n",
            "w1=25, w2=6일때 예측값은[104 198 142 211 236]\n",
            "26 6\n",
            "w1=26, w2=6일때 예측값은[106 204 146 218 244]\n",
            "27 6\n",
            "w1=27, w2=6일때 예측값은[108 210 150 225 252]\n",
            "28 6\n",
            "w1=28, w2=6일때 예측값은[110 216 154 232 260]\n",
            "29 6\n",
            "w1=29, w2=6일때 예측값은[112 222 158 239 268]\n",
            "30 6\n",
            "w1=30, w2=6일때 예측값은[114 228 162 246 276]\n",
            "0 7\n",
            "w1=0, w2=7일때 예측값은[63 56 49 42 42]\n",
            "1 7\n",
            "w1=1, w2=7일때 예측값은[65 62 53 49 50]\n",
            "2 7\n",
            "w1=2, w2=7일때 예측값은[67 68 57 56 58]\n",
            "3 7\n",
            "w1=3, w2=7일때 예측값은[69 74 61 63 66]\n",
            "4 7\n",
            "w1=4, w2=7일때 예측값은[71 80 65 70 74]\n",
            "5 7\n",
            "w1=5, w2=7일때 예측값은[73 86 69 77 82]\n",
            "6 7\n",
            "w1=6, w2=7일때 예측값은[75 92 73 84 90]\n",
            "7 7\n",
            "w1=7, w2=7일때 예측값은[77 98 77 91 98]\n",
            "8 7\n",
            "w1=8, w2=7일때 예측값은[ 79 104  81  98 106]\n",
            "9 7\n",
            "w1=9, w2=7일때 예측값은[ 81 110  85 105 114]\n",
            "10 7\n",
            "w1=10, w2=7일때 예측값은[ 83 116  89 112 122]\n",
            "11 7\n",
            "w1=11, w2=7일때 예측값은[ 85 122  93 119 130]\n",
            "12 7\n",
            "w1=12, w2=7일때 예측값은[ 87 128  97 126 138]\n",
            "13 7\n",
            "w1=13, w2=7일때 예측값은[ 89 134 101 133 146]\n",
            "14 7\n",
            "w1=14, w2=7일때 예측값은[ 91 140 105 140 154]\n",
            "15 7\n",
            "w1=15, w2=7일때 예측값은[ 93 146 109 147 162]\n",
            "16 7\n",
            "w1=16, w2=7일때 예측값은[ 95 152 113 154 170]\n",
            "17 7\n",
            "w1=17, w2=7일때 예측값은[ 97 158 117 161 178]\n",
            "18 7\n",
            "w1=18, w2=7일때 예측값은[ 99 164 121 168 186]\n",
            "19 7\n",
            "w1=19, w2=7일때 예측값은[101 170 125 175 194]\n",
            "20 7\n",
            "w1=20, w2=7일때 예측값은[103 176 129 182 202]\n",
            "21 7\n",
            "w1=21, w2=7일때 예측값은[105 182 133 189 210]\n",
            "22 7\n",
            "w1=22, w2=7일때 예측값은[107 188 137 196 218]\n",
            "23 7\n",
            "w1=23, w2=7일때 예측값은[109 194 141 203 226]\n",
            "24 7\n",
            "w1=24, w2=7일때 예측값은[111 200 145 210 234]\n",
            "25 7\n",
            "w1=25, w2=7일때 예측값은[113 206 149 217 242]\n",
            "26 7\n",
            "w1=26, w2=7일때 예측값은[115 212 153 224 250]\n",
            "27 7\n",
            "w1=27, w2=7일때 예측값은[117 218 157 231 258]\n",
            "28 7\n",
            "w1=28, w2=7일때 예측값은[119 224 161 238 266]\n",
            "29 7\n",
            "w1=29, w2=7일때 예측값은[121 230 165 245 274]\n",
            "30 7\n",
            "w1=30, w2=7일때 예측값은[123 236 169 252 282]\n",
            "0 8\n",
            "w1=0, w2=8일때 예측값은[72 64 56 48 48]\n",
            "1 8\n",
            "w1=1, w2=8일때 예측값은[74 70 60 55 56]\n",
            "2 8\n",
            "w1=2, w2=8일때 예측값은[76 76 64 62 64]\n",
            "3 8\n",
            "w1=3, w2=8일때 예측값은[78 82 68 69 72]\n",
            "4 8\n",
            "w1=4, w2=8일때 예측값은[80 88 72 76 80]\n",
            "5 8\n",
            "w1=5, w2=8일때 예측값은[82 94 76 83 88]\n",
            "6 8\n",
            "w1=6, w2=8일때 예측값은[ 84 100  80  90  96]\n",
            "7 8\n",
            "w1=7, w2=8일때 예측값은[ 86 106  84  97 104]\n",
            "8 8\n",
            "w1=8, w2=8일때 예측값은[ 88 112  88 104 112]\n",
            "9 8\n",
            "w1=9, w2=8일때 예측값은[ 90 118  92 111 120]\n",
            "10 8\n",
            "w1=10, w2=8일때 예측값은[ 92 124  96 118 128]\n",
            "11 8\n",
            "w1=11, w2=8일때 예측값은[ 94 130 100 125 136]\n",
            "12 8\n",
            "w1=12, w2=8일때 예측값은[ 96 136 104 132 144]\n",
            "13 8\n",
            "w1=13, w2=8일때 예측값은[ 98 142 108 139 152]\n",
            "14 8\n",
            "w1=14, w2=8일때 예측값은[100 148 112 146 160]\n",
            "15 8\n",
            "w1=15, w2=8일때 예측값은[102 154 116 153 168]\n",
            "16 8\n",
            "w1=16, w2=8일때 예측값은[104 160 120 160 176]\n",
            "17 8\n",
            "w1=17, w2=8일때 예측값은[106 166 124 167 184]\n",
            "18 8\n",
            "w1=18, w2=8일때 예측값은[108 172 128 174 192]\n",
            "19 8\n",
            "w1=19, w2=8일때 예측값은[110 178 132 181 200]\n",
            "20 8\n",
            "w1=20, w2=8일때 예측값은[112 184 136 188 208]\n",
            "21 8\n",
            "w1=21, w2=8일때 예측값은[114 190 140 195 216]\n",
            "22 8\n",
            "w1=22, w2=8일때 예측값은[116 196 144 202 224]\n",
            "23 8\n",
            "w1=23, w2=8일때 예측값은[118 202 148 209 232]\n",
            "24 8\n",
            "w1=24, w2=8일때 예측값은[120 208 152 216 240]\n",
            "25 8\n",
            "w1=25, w2=8일때 예측값은[122 214 156 223 248]\n",
            "26 8\n",
            "w1=26, w2=8일때 예측값은[124 220 160 230 256]\n",
            "27 8\n",
            "w1=27, w2=8일때 예측값은[126 226 164 237 264]\n",
            "28 8\n",
            "w1=28, w2=8일때 예측값은[128 232 168 244 272]\n",
            "29 8\n",
            "w1=29, w2=8일때 예측값은[130 238 172 251 280]\n",
            "30 8\n",
            "w1=30, w2=8일때 예측값은[132 244 176 258 288]\n",
            "0 9\n",
            "w1=0, w2=9일때 예측값은[81 72 63 54 54]\n",
            "1 9\n",
            "w1=1, w2=9일때 예측값은[83 78 67 61 62]\n",
            "2 9\n",
            "w1=2, w2=9일때 예측값은[85 84 71 68 70]\n",
            "3 9\n",
            "w1=3, w2=9일때 예측값은[87 90 75 75 78]\n",
            "4 9\n",
            "w1=4, w2=9일때 예측값은[89 96 79 82 86]\n",
            "5 9\n",
            "w1=5, w2=9일때 예측값은[ 91 102  83  89  94]\n",
            "6 9\n",
            "w1=6, w2=9일때 예측값은[ 93 108  87  96 102]\n",
            "7 9\n",
            "w1=7, w2=9일때 예측값은[ 95 114  91 103 110]\n",
            "8 9\n",
            "w1=8, w2=9일때 예측값은[ 97 120  95 110 118]\n",
            "9 9\n",
            "w1=9, w2=9일때 예측값은[ 99 126  99 117 126]\n",
            "10 9\n",
            "w1=10, w2=9일때 예측값은[101 132 103 124 134]\n",
            "11 9\n",
            "w1=11, w2=9일때 예측값은[103 138 107 131 142]\n",
            "12 9\n",
            "w1=12, w2=9일때 예측값은[105 144 111 138 150]\n",
            "13 9\n",
            "w1=13, w2=9일때 예측값은[107 150 115 145 158]\n",
            "14 9\n",
            "w1=14, w2=9일때 예측값은[109 156 119 152 166]\n",
            "15 9\n",
            "w1=15, w2=9일때 예측값은[111 162 123 159 174]\n",
            "16 9\n",
            "w1=16, w2=9일때 예측값은[113 168 127 166 182]\n",
            "17 9\n",
            "w1=17, w2=9일때 예측값은[115 174 131 173 190]\n",
            "18 9\n",
            "w1=18, w2=9일때 예측값은[117 180 135 180 198]\n",
            "19 9\n",
            "w1=19, w2=9일때 예측값은[119 186 139 187 206]\n",
            "20 9\n",
            "w1=20, w2=9일때 예측값은[121 192 143 194 214]\n",
            "21 9\n",
            "w1=21, w2=9일때 예측값은[123 198 147 201 222]\n",
            "22 9\n",
            "w1=22, w2=9일때 예측값은[125 204 151 208 230]\n",
            "23 9\n",
            "w1=23, w2=9일때 예측값은[127 210 155 215 238]\n",
            "24 9\n",
            "w1=24, w2=9일때 예측값은[129 216 159 222 246]\n",
            "25 9\n",
            "w1=25, w2=9일때 예측값은[131 222 163 229 254]\n",
            "26 9\n",
            "w1=26, w2=9일때 예측값은[133 228 167 236 262]\n",
            "27 9\n",
            "w1=27, w2=9일때 예측값은[135 234 171 243 270]\n",
            "28 9\n",
            "w1=28, w2=9일때 예측값은[137 240 175 250 278]\n",
            "29 9\n",
            "w1=29, w2=9일때 예측값은[139 246 179 257 286]\n",
            "30 9\n",
            "w1=30, w2=9일때 예측값은[141 252 183 264 294]\n",
            "0 10\n",
            "w1=0, w2=10일때 예측값은[90 80 70 60 60]\n",
            "1 10\n",
            "w1=1, w2=10일때 예측값은[92 86 74 67 68]\n",
            "2 10\n",
            "w1=2, w2=10일때 예측값은[94 92 78 74 76]\n",
            "3 10\n",
            "w1=3, w2=10일때 예측값은[96 98 82 81 84]\n",
            "4 10\n",
            "w1=4, w2=10일때 예측값은[ 98 104  86  88  92]\n",
            "5 10\n",
            "w1=5, w2=10일때 예측값은[100 110  90  95 100]\n",
            "6 10\n",
            "w1=6, w2=10일때 예측값은[102 116  94 102 108]\n",
            "7 10\n",
            "w1=7, w2=10일때 예측값은[104 122  98 109 116]\n",
            "8 10\n",
            "w1=8, w2=10일때 예측값은[106 128 102 116 124]\n",
            "9 10\n",
            "w1=9, w2=10일때 예측값은[108 134 106 123 132]\n",
            "10 10\n",
            "w1=10, w2=10일때 예측값은[110 140 110 130 140]\n",
            "11 10\n",
            "w1=11, w2=10일때 예측값은[112 146 114 137 148]\n",
            "12 10\n",
            "w1=12, w2=10일때 예측값은[114 152 118 144 156]\n",
            "13 10\n",
            "w1=13, w2=10일때 예측값은[116 158 122 151 164]\n",
            "14 10\n",
            "w1=14, w2=10일때 예측값은[118 164 126 158 172]\n",
            "15 10\n",
            "w1=15, w2=10일때 예측값은[120 170 130 165 180]\n",
            "16 10\n",
            "w1=16, w2=10일때 예측값은[122 176 134 172 188]\n",
            "17 10\n",
            "w1=17, w2=10일때 예측값은[124 182 138 179 196]\n",
            "18 10\n",
            "w1=18, w2=10일때 예측값은[126 188 142 186 204]\n",
            "19 10\n",
            "w1=19, w2=10일때 예측값은[128 194 146 193 212]\n",
            "20 10\n",
            "w1=20, w2=10일때 예측값은[130 200 150 200 220]\n",
            "21 10\n",
            "w1=21, w2=10일때 예측값은[132 206 154 207 228]\n",
            "22 10\n",
            "w1=22, w2=10일때 예측값은[134 212 158 214 236]\n",
            "23 10\n",
            "w1=23, w2=10일때 예측값은[136 218 162 221 244]\n",
            "24 10\n",
            "w1=24, w2=10일때 예측값은[138 224 166 228 252]\n",
            "25 10\n",
            "w1=25, w2=10일때 예측값은[140 230 170 235 260]\n",
            "26 10\n",
            "w1=26, w2=10일때 예측값은[142 236 174 242 268]\n",
            "27 10\n",
            "w1=27, w2=10일때 예측값은[144 242 178 249 276]\n",
            "28 10\n",
            "w1=28, w2=10일때 예측값은[146 248 182 256 284]\n",
            "29 10\n",
            "w1=29, w2=10일때 예측값은[148 254 186 263 292]\n",
            "30 10\n",
            "w1=30, w2=10일때 예측값은[150 260 190 270 300]\n",
            "[142.0, 136.6, 131.2, 125.8, 120.4, 115.0, 109.6, 104.2, 98.8, 93.4, 88.0, 82.6, 77.2, 71.8, 66.4, 61.0, 55.6, 50.2, 44.8, 39.4, 34.0, 31.8, 31.2, 31.8, 32.4, 33.0, 33.6, 35.0, 38.0, 41.0, 44.0, 134.8, 129.4, 124.0, 118.6, 113.2, 107.8, 102.4, 97.0, 91.6, 86.2, 80.8, 75.4, 70.0, 64.6, 59.2, 53.8, 48.4, 43.0, 37.6, 32.2, 29.2, 28.2, 28.8, 29.4, 30.0, 30.6, 32.8, 35.8, 38.8, 41.8, 44.8, 127.6, 122.2, 116.8, 111.4, 106.0, 100.6, 95.2, 89.8, 84.4, 79.0, 73.6, 68.2, 62.8, 57.4, 52.0, 46.6, 41.2, 35.8, 30.4, 26.6, 25.2, 25.8, 26.4, 27.0, 27.6, 30.6, 33.6, 36.6, 39.6, 42.6, 47.2, 120.4, 115.0, 109.6, 104.2, 98.8, 93.4, 88.0, 82.6, 77.2, 71.8, 66.4, 61.0, 55.6, 50.2, 44.8, 39.4, 34.0, 28.6, 24.0, 22.2, 22.8, 23.4, 24.0, 25.4, 28.4, 31.4, 34.4, 37.4, 41.6, 46.2, 50.8, 113.2, 107.8, 102.4, 97.0, 91.6, 86.2, 80.8, 75.4, 70.0, 64.6, 59.2, 53.8, 48.4, 43.0, 37.6, 32.2, 26.8, 21.4, 19.2, 19.8, 20.4, 21.0, 23.2, 26.2, 29.2, 32.2, 36.0, 40.6, 45.2, 49.8, 54.4, 106.0, 100.6, 95.2, 89.8, 84.4, 79.0, 73.6, 68.2, 62.8, 57.4, 52.0, 46.6, 41.2, 35.8, 30.4, 25.0, 19.6, 16.6, 16.8, 17.4, 18.0, 21.0, 24.0, 27.0, 30.4, 35.0, 39.6, 44.2, 48.8, 53.4, 58.0, 98.8, 93.4, 88.0, 82.6, 77.2, 71.8, 66.4, 61.0, 55.6, 50.2, 44.8, 39.4, 34.0, 28.6, 23.2, 17.8, 14.0, 13.8, 14.4, 15.8, 18.8, 21.8, 24.8, 29.4, 34.0, 38.6, 43.2, 47.8, 52.4, 57.8, 63.2, 91.6, 86.2, 80.8, 75.4, 70.0, 64.6, 59.2, 53.8, 48.4, 43.0, 37.6, 32.2, 26.8, 21.4, 16.0, 11.4, 10.8, 11.4, 13.6, 16.6, 19.6, 23.8, 28.4, 33.0, 38.0, 43.4, 48.8, 54.2, 59.6, 65.0, 70.4, 84.4, 79.0, 73.6, 68.2, 62.8, 57.4, 52.0, 46.6, 41.2, 35.8, 30.4, 25.0, 19.6, 14.2, 8.8, 7.8, 8.4, 11.4, 14.4, 18.2, 23.6, 29.0, 34.4, 39.8, 45.2, 50.6, 56.0, 61.4, 66.8, 72.2, 77.6, 77.2, 71.8, 66.4, 61.0, 55.6, 50.2, 44.8, 39.4, 34.0, 28.6, 23.2, 17.8, 12.4, 7.0, 4.8, 6.6, 10.4, 14.6, 20.0, 25.4, 30.8, 36.2, 41.6, 47.0, 52.4, 57.8, 63.2, 68.6, 74.0, 79.4, 84.8, 70.0, 64.6, 59.2, 53.8, 48.4, 43.0, 37.6, 32.2, 26.8, 21.4, 16.0, 11.4, 6.8, 4.2, 7.2, 11.0, 16.4, 21.8, 27.2, 32.6, 38.0, 43.4, 48.8, 54.2, 59.6, 65.0, 70.4, 75.8, 81.2, 86.6, 92.0, 62.8, 57.4, 52.0, 46.6, 41.2, 35.8, 30.8, 26.2, 21.6, 17.0, 12.4, 7.8, 4.0, 7.8, 12.8, 18.2, 23.6, 29.0, 34.4, 39.8, 45.2, 50.6, 56.0, 61.4, 66.8, 72.2, 77.6, 83.0, 88.4, 93.8, 99.2, 55.6, 50.2, 45.6, 41.0, 36.4, 31.8, 27.2, 22.6, 18.0, 13.4, 8.8, 5.0, 9.2, 14.6, 20.0, 25.4, 30.8, 36.2, 41.6, 47.0, 52.4, 57.8, 63.2, 68.6, 74.0, 79.4, 84.8, 90.2, 95.6, 101.0, 106.4, 51.2, 46.6, 42.0, 37.4, 32.8, 28.2, 23.6, 19.0, 14.4, 9.8, 7.2, 11.0, 16.4, 21.8, 27.2, 32.6, 38.0, 43.4, 48.8, 54.2, 59.6, 65.0, 70.4, 75.8, 81.2, 86.6, 92.0, 97.4, 102.8, 108.2, 113.6, 47.6, 43.0, 38.4, 33.8, 29.2, 24.6, 20.0, 15.4, 10.8, 10.2, 12.8, 18.2, 23.6, 29.0, 34.4, 39.8, 45.2, 50.6, 56.0, 61.4, 66.8, 72.2, 77.6, 83.0, 88.4, 93.8, 99.2, 104.6, 110.0, 115.4, 120.8, 44.0, 39.4, 34.8, 30.2, 25.6, 21.0, 16.4, 13.8, 13.2, 14.6, 20.0, 25.4, 30.8, 36.2, 41.6, 47.0, 52.4, 57.8, 63.2, 68.6, 74.0, 79.4, 84.8, 90.2, 95.6, 101.0, 106.4, 111.8, 117.2, 122.6, 128.0, 40.4, 35.8, 31.2, 26.6, 22.0, 18.2, 16.8, 16.2, 16.4, 21.8, 27.2, 32.6, 38.0, 43.4, 48.8, 54.2, 59.6, 65.0, 70.4, 75.8, 81.2, 86.6, 92.0, 97.4, 102.8, 108.2, 113.6, 119.0, 124.4, 129.8, 135.2, 36.8, 32.2, 27.6, 23.4, 20.4, 19.8, 19.2, 19.0, 23.6, 29.0, 34.4, 39.8, 45.2, 50.6, 56.0, 61.4, 66.8, 72.2, 77.6, 83.0, 88.4, 93.8, 99.2, 104.6, 110.0, 115.4, 120.8, 126.2, 131.6, 137.0, 142.4, 33.2, 28.6, 25.6, 23.4, 22.8, 22.2, 21.6, 25.4, 30.8, 36.2, 41.6, 47.0, 52.4, 57.8, 63.2, 68.6, 74.0, 79.4, 84.8, 90.2, 95.6, 101.0, 106.4, 111.8, 117.2, 122.6, 128.0, 133.4, 138.8, 144.2, 149.6, 30.8, 27.8, 26.4, 25.8, 25.2, 24.6, 27.2, 32.6, 38.0, 43.4, 48.8, 54.2, 59.6, 65.0, 70.4, 75.8, 81.2, 86.6, 92.0, 97.4, 102.8, 108.2, 113.6, 119.0, 124.4, 129.8, 135.2, 140.6, 146.0, 151.4, 156.8, 30.0, 29.4, 28.8, 28.2, 27.6, 29.0, 34.4, 39.8, 45.2, 50.6, 56.0, 61.4, 66.8, 72.2, 77.6, 83.0, 88.4, 93.8, 99.2, 104.6, 110.0, 115.4, 120.8, 126.2, 131.6, 137.0, 142.4, 147.8, 153.2, 158.6, 164.0]\n"
          ]
        }
      ]
    },
    {
      "cell_type": "markdown",
      "metadata": {
        "id": "jiwFG-NhqTkN"
      },
      "source": [
        "* 3d플롯으로 시각화"
      ]
    },
    {
      "cell_type": "code",
      "source": [
        "W1.shape"
      ],
      "metadata": {
        "colab": {
          "base_uri": "https://localhost:8080/"
        },
        "id": "Zg3Efu6ZFRra",
        "outputId": "d90bd89e-c6f9-4e3c-e6d7-114a2065c576"
      },
      "execution_count": null,
      "outputs": [
        {
          "output_type": "execute_result",
          "data": {
            "text/plain": [
              "(21, 31)"
            ]
          },
          "metadata": {},
          "execution_count": 94
        }
      ]
    },
    {
      "cell_type": "code",
      "execution_count": null,
      "metadata": {
        "id": "5quWOXGDchhe",
        "colab": {
          "base_uri": "https://localhost:8080/",
          "height": 392
        },
        "outputId": "4fb743ff-559f-4390-fd38-6afa7007a887"
      },
      "outputs": [
        {
          "output_type": "stream",
          "name": "stderr",
          "text": [
            "No handles with labels found to put in legend.\n"
          ]
        },
        {
          "output_type": "execute_result",
          "data": {
            "text/plain": [
              "Text(0.5, 0, 'error')"
            ]
          },
          "metadata": {},
          "execution_count": 95
        },
        {
          "output_type": "display_data",
          "data": {
            "text/plain": [
              "<Figure size 576x432 with 1 Axes>"
            ],
            "image/png": "[encoded data removed]"
          },
          "metadata": {
            "needs_background": "light"
          }
        }
      ],
      "source": [
        "fig = plt.figure(figsize=(8,6)) \n",
        "ax = plt.axes(projection='3d') \n",
        "\n",
        "# w1,w2에 대한 error\n",
        "ax.scatter3D(W1.flatten(), W2.flatten(),errors,marker='.', c='k')\n",
        "surf = ax.plot_surface(W1,W2,np.array(errors).reshape(21,31))\n",
        "\n",
        "plt.legend()\n",
        "ax.set_xlabel('w1')\n",
        "ax.set_ylabel('w2')\n",
        "ax.set_zlabel('error')"
      ]
    },
    {
      "cell_type": "markdown",
      "metadata": {
        "id": "QtHMuaycoAJA"
      },
      "source": [
        "### **| step 4. 예측 (Prediction)**"
      ]
    },
    {
      "cell_type": "markdown",
      "metadata": {
        "id": "i7E_v8Ga8LQU"
      },
      "source": [
        "* 최적화된 파라미터 정의"
      ]
    },
    {
      "cell_type": "code",
      "execution_count": null,
      "metadata": {
        "id": "QUu5sE-K8NP6",
        "colab": {
          "base_uri": "https://localhost:8080/"
        },
        "outputId": "7c8820bb-fafb-4cbd-91e1-b18b9d87e91d"
      },
      "outputs": [
        {
          "output_type": "stream",
          "name": "stdout",
          "text": [
            "[ 20  80  60  90 100]\n",
            "[ 19  76  49  92 106]\n"
          ]
        }
      ],
      "source": [
        "w_vec_ = np.array([14,-1])\n",
        "y_pred = model2(x,w_vec = w_vec_)\n",
        "print(y)\n",
        "print(y_pred)"
      ]
    },
    {
      "cell_type": "markdown",
      "metadata": {
        "id": "Y3GtsybBoAJA"
      },
      "source": [
        "* 학습 완료된 모델의 최종 손실 계산"
      ]
    },
    {
      "cell_type": "code",
      "execution_count": null,
      "metadata": {
        "id": "HeXT9GDnoAJA",
        "colab": {
          "base_uri": "https://localhost:8080/"
        },
        "outputId": "57b21858-38b4-4638-9844-810fbc8b75bc"
      },
      "outputs": [
        {
          "output_type": "execute_result",
          "data": {
            "text/plain": [
              "4.8"
            ]
          },
          "metadata": {},
          "execution_count": 98
        }
      ],
      "source": [
        "loss(y,y_pred)"
      ]
    },
    {
      "cell_type": "markdown",
      "metadata": {
        "id": "Uuqeagt3oAJA"
      },
      "source": [
        "* 학습 완료된 모델에 대한 예측 시각화"
      ]
    },
    {
      "cell_type": "code",
      "source": [
        "\n",
        "fig = plt.figure(figsize=(8,6)) #그림 전체 사이즈 설정\n",
        "ax = plt.axes(projection='3d') #좌표를 3dㅀ 설정\n",
        "# 공부시간(x_*1), 수면시간 (x_*2), 성적 (y)\n",
        "study_time = x[:,0]\n",
        "sleep_time = x[:,1]\n",
        "ax.scatter3D(study_time, sleep_time,y, c='k', label = 'data')\n",
        "\n",
        "\n",
        "\n",
        "\n",
        "study_time_range = np.linspace(2,8,100)\n",
        "sleep_time_range = np.linspace(6,9,100)\n",
        "STUDY, SLEEP = np.meshgrid(study_time_range, sleep_time_range)\n",
        "ax.plot_surface(STUDY, SLEEP,model2())\n",
        "\n",
        "\n",
        "plt.legend()\n",
        "ax.set_xlabel('study time')\n",
        "ax.set_ylabel('sleep time')\n",
        "ax.set_zlabel('score')"
      ],
      "metadata": {
        "id": "Wm2udvPSAsia",
        "colab": {
          "base_uri": "https://localhost:8080/",
          "height": 374
        },
        "outputId": "007fbd66-8df0-406b-e8fa-f4308f54db1e"
      },
      "execution_count": null,
      "outputs": [
        {
          "output_type": "execute_result",
          "data": {
            "text/plain": [
              "Text(0.5, 0, 'score')"
            ]
          },
          "metadata": {},
          "execution_count": 99
        },
        {
          "output_type": "display_data",
          "data": {
            "text/plain": [
              "<Figure size 576x432 with 1 Axes>"
            ],
            "image/png": "[encoded data removed]"
          },
          "metadata": {
            "needs_background": "light"
          }
        }
      ]
    },
    {
      "cell_type": "markdown",
      "metadata": {
        "id": "24tBE1IfoAJA"
      },
      "source": [
        "* 공부시간이 6시간이고 수면시간 5시간 일 때 예상 점수는?\n"
      ]
    },
    {
      "cell_type": "code",
      "execution_count": null,
      "metadata": {
        "id": "NlzSUkM3oAJA",
        "colab": {
          "base_uri": "https://localhost:8080/"
        },
        "outputId": "cede1047-ee26-4982-cfb2-0252106f17bc"
      },
      "outputs": [
        {
          "output_type": "execute_result",
          "data": {
            "text/plain": [
              "79"
            ]
          },
          "metadata": {},
          "execution_count": 100
        }
      ],
      "source": [
        "model2(np.array([6, 5]),w_vec_)"
      ]
    },
    {
      "cell_type": "markdown",
      "metadata": {
        "id": "ryN0xOv4oAJB"
      },
      "source": [
        "### **| step 5. 평가 (Evaluation)**\n",
        "\n",
        "* 훈련 데이터셋\n",
        "\n",
        "\n",
        "|공부시간|수면시간|종합점수|\n",
        "|------|---|--|\n",
        "|2|9|20|\n",
        "|6|8|50|\n",
        "|4|7|60|\n",
        "|7|6|90|\n",
        "|8|6|100|\n",
        "\n",
        "* 테스트 데이터셋\n",
        "\n",
        "|공부시간|수면시간|종합점수|\n",
        "|------|---|--|\n",
        "|1|7|15|\n",
        "|3|8|25|\n",
        "|5|7|60|\n",
        "|5|6|90|\n",
        "|10|7|95|"
      ]
    },
    {
      "cell_type": "markdown",
      "metadata": {
        "id": "Ypl_S_QfoAJB"
      },
      "source": [
        "* 테스트 데이터셋 정의"
      ]
    },
    {
      "cell_type": "code",
      "execution_count": null,
      "metadata": {
        "id": "l8LvKjByoAJB",
        "colab": {
          "base_uri": "https://localhost:8080/"
        },
        "outputId": "242e3aee-9a1d-4580-9048-b43a0b3af7a3"
      },
      "outputs": [
        {
          "output_type": "stream",
          "name": "stdout",
          "text": [
            "[[2 9]\n",
            " [6 8]\n",
            " [4 7]\n",
            " [7 6]\n",
            " [8 6]] (5, 2)\n",
            "[ 20  80  60  90 100] (5,)\n"
          ]
        }
      ],
      "source": [
        "x_test = np.array([1,7,3,8,5,7,5,6,10,7]).reshape(5,2)\n",
        "y_test = np.array([15,25,60,90,95])\n",
        "print(x,x.shape)\n",
        "print(y,y.shape)"
      ]
    },
    {
      "cell_type": "markdown",
      "metadata": {
        "id": "DqHAYcIioAJB"
      },
      "source": [
        "* 학습 완료된 모델에 테스트 데이터로 최종 손실 계산"
      ]
    },
    {
      "cell_type": "code",
      "execution_count": null,
      "metadata": {
        "id": "BfEWvhS8oAJB",
        "colab": {
          "base_uri": "https://localhost:8080/"
        },
        "outputId": "aad63d56-61ec-476e-e3eb-68d9e417295c"
      },
      "outputs": [
        {
          "output_type": "stream",
          "name": "stdout",
          "text": [
            "16.8\n"
          ]
        }
      ],
      "source": [
        "y_test_pred = model2(x_test,w_vec_)\n",
        "error= loss(y_test,y_test_pred)\n",
        "print(error)"
      ]
    },
    {
      "cell_type": "markdown",
      "metadata": {
        "id": "qFRMUCJZoAJB"
      },
      "source": [
        "* 학습 완료된 모델에 테스트 데이터 예측 시각화"
      ]
    },
    {
      "cell_type": "code",
      "execution_count": null,
      "metadata": {
        "id": "R6TVPbqHoAJB"
      },
      "outputs": [],
      "source": [
        ""
      ]
    },
    {
      "cell_type": "code",
      "source": [
        ""
      ],
      "metadata": {
        "id": "Lt5FOTA2I_wJ"
      },
      "execution_count": null,
      "outputs": []
    },
    {
      "cell_type": "markdown",
      "source": [
        "## 클래스 작성하기\n",
        "---\n",
        "\n",
        "```\n",
        "단순 선형회귀 분석 클래스를 작성합니다.\n",
        "\n",
        "model = Model() # 모델 클래스가 생성됩니다.\n",
        "model.fit(xs, ys) # 최적화가 진행됩니다.\n",
        "model.predict(xs) # 예측을 진행합니다.\n",
        "model.validation(xs, ys) # 평가를 진행합니다.\n",
        "```"
      ],
      "metadata": {
        "id": "YE4y3XQfJAO8"
      }
    },
    {
      "cell_type": "code",
      "source": [
        "class Model():\n",
        "  def __init__(self):\n",
        "    self.w = 5\n",
        "  def model(self,x):\n",
        "    return x*self.w\n",
        "\n",
        "  def predict(self,x):\n",
        "    y_pred = self.model(x)\n",
        "    return y_pred\n",
        "\n",
        "  def loss(self,y,y_hat):\n",
        "    return np.sum(np.abs(y-y_hat))/len(y)\n",
        "\n",
        "  def validation(self, x, y):\n",
        "    y_pred = self.model(x)\n",
        "    error = self.loss(y, y_pred)\n",
        "    return error\n",
        "\n",
        "  def plot(self, x, y):\n",
        "    plt.scatter(x,y , label='data', c='k') #좌표 평면에 점 찍기\n",
        "    plt.plot(x,self.predict(x),label='model') #모델의 직선 그리기\n",
        "    plt.legend()\n",
        "    plt.xlabel('study time(x)')\n",
        "    plt.ylabel('score(y)')\n",
        "    plt.title(f'w:{self.w}')\n",
        "    plt.show()\n",
        "\n",
        "  def fit(self, x,y, w_min, w_max):\n",
        "    min_error = 1000000\n",
        "    for w in range(w_min,w_max):\n",
        "      self.w = w\n",
        "\n",
        "      y_pred =self.model(x)\n",
        "      error =self.loss(y, y_pred)\n",
        "\n",
        "#ㅈ구한 오차가 이때까지 오차중 가장 작으면\n",
        "\n",
        "      if min_error >= error:\n",
        "        min_error = error#최소오차 업데이트\n",
        "        w_ideal = w #w도 업데이트 하겠다\n",
        "        print(f'*w={w}일때 error = {error}')\n",
        "\n",
        "      else:# 지금 구한 오차ㅑ가 커지기 시작하면,\n",
        "       print('학습 종료')\n",
        "       self.w = w_ideal\n",
        "       break"
      ],
      "metadata": {
        "id": "UxHpUFznJhwr"
      },
      "execution_count": null,
      "outputs": []
    },
    {
      "cell_type": "code",
      "source": [
        "x = np.array([3,5,5,7,8])\n",
        "y = np.array([20,50,60,90,100])\n",
        "x.shape, y.shape"
      ],
      "metadata": {
        "colab": {
          "base_uri": "https://localhost:8080/"
        },
        "id": "nrc3hqdlShuK",
        "outputId": "603a7be2-95aa-4846-c9d2-bbc1a81c51c3"
      },
      "execution_count": null,
      "outputs": [
        {
          "output_type": "execute_result",
          "data": {
            "text/plain": [
              "((5,), (5,))"
            ]
          },
          "metadata": {},
          "execution_count": 139
        }
      ]
    },
    {
      "cell_type": "code",
      "source": [
        "model = Model()\n",
        "print('모델의 예측', model.predict(x))\n",
        "print('평가 결과(오차', model.validation(x,y))\n",
        "model.plot(x,y)\n",
        "model.fit(x,y,w_min=0,w_max=20)\n",
        "model.plot(x,y)"
      ],
      "metadata": {
        "colab": {
          "base_uri": "https://localhost:8080/",
          "height": 859
        },
        "id": "1epzGI8nOTBz",
        "outputId": "fedec27a-76e2-4419-8c82-f66c8b082e9f"
      },
      "execution_count": null,
      "outputs": [
        {
          "output_type": "stream",
          "name": "stdout",
          "text": [
            "모델의 예측 [15 25 25 35 40]\n",
            "평가 결과(오차 36.0\n"
          ]
        },
        {
          "output_type": "display_data",
          "data": {
            "text/plain": [
              "<Figure size 432x288 with 1 Axes>"
            ],
            "image/png": "[encoded data removed]"
          },
          "metadata": {
            "needs_background": "light"
          }
        },
        {
          "output_type": "stream",
          "name": "stdout",
          "text": [
            "*w=0일때 error = 64.0\n",
            "*w=1일때 error = 58.4\n",
            "*w=2일때 error = 52.8\n",
            "*w=3일때 error = 47.2\n",
            "*w=4일때 error = 41.6\n",
            "*w=5일때 error = 36.0\n",
            "*w=6일때 error = 30.4\n",
            "*w=7일때 error = 25.2\n",
            "*w=8일때 error = 20.8\n",
            "*w=9일때 error = 16.4\n",
            "*w=10일때 error = 12.0\n",
            "*w=11일때 error = 9.6\n",
            "*w=12일때 error = 7.2\n",
            "학습 종료\n"
          ]
        },
        {
          "output_type": "display_data",
          "data": {
            "text/plain": [
              "<Figure size 432x288 with 1 Axes>"
            ],
            "image/png": "[encoded data removed]"
          },
          "metadata": {
            "needs_background": "light"
          }
        }
      ]
    },
    {
      "cell_type": "code",
      "source": [
        "model.w"
      ],
      "metadata": {
        "colab": {
          "base_uri": "https://localhost:8080/"
        },
        "id": "9jxP6rRXOm9i",
        "outputId": "d42c0cd5-ec43-458a-8ca5-518270403cf2"
      },
      "execution_count": null,
      "outputs": [
        {
          "output_type": "execute_result",
          "data": {
            "text/plain": [
              "12"
            ]
          },
          "metadata": {},
          "execution_count": 149
        }
      ]
    },
    {
      "cell_type": "code",
      "source": [
        ""
      ],
      "metadata": {
        "id": "M3wMQAvNZTCC"
      },
      "execution_count": null,
      "outputs": []
    }
  ],
  "metadata": {
    "colab": {
      "collapsed_sections": [],
      "name": "ch05_03_기초모델구현-회귀모델맛보기.ipynb",
      "provenance": [],
      "toc_visible": true,
      "include_colab_link": true
    },
    "kernelspec": {
      "display_name": "Python 3",
      "name": "python3"
    },
    "language_info": {
      "name": "python"
    }
  },
  "nbformat": 4,
  "nbformat_minor": 0
}